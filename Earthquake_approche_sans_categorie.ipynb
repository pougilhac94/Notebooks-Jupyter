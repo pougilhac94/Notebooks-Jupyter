{
 "cells": [
  {
   "cell_type": "markdown",
   "metadata": {},
   "source": [
    "<div>\n",
    "    <div><img src=\"images/drivendata-logo.svg\" alt=\"drawing\" width=\"100\"/></div>\n",
    "    <br>\n",
    "    <div><img src=\"images/nepal-quake-bm-2.jfif\" alt=\"drawing\" width=\"400\"/></div>\n",
    "</div>\n",
    "\n",
    "## Richter's Predictor: Modeling Earthquake Damage\n",
    "##### ---------------------------------------------------------------------------------------------------------------------------------------------------------------------------------------------------------\n",
    "### Modélisation en considérant les 3 niveaux géographiques comme des données numériques\n"
   ]
  },
  {
   "cell_type": "markdown",
   "metadata": {},
   "source": [
    "##### ---------------------------------------------------------------------------------------------------------------------------------------------------------------------------------------------------------\n",
    "\n",
    "### Chargement du fichier et agrégation aux niveaux 1 et 2 et sur la cible (target)"
   ]
  },
  {
   "cell_type": "code",
   "execution_count": 1,
   "metadata": {},
   "outputs": [
    {
     "name": "stdout",
     "output_type": "stream",
     "text": [
      "Shape du fichier des valeurs d'entraînement : (260601, 39)\n",
      "Shape du fichier des cibles d'entraînement : (260601, 2)\n",
      "\n",
      "Valeurs\n"
     ]
    },
    {
     "data": {
      "text/html": [
       "<div>\n",
       "<style scoped>\n",
       "    .dataframe tbody tr th:only-of-type {\n",
       "        vertical-align: middle;\n",
       "    }\n",
       "\n",
       "    .dataframe tbody tr th {\n",
       "        vertical-align: top;\n",
       "    }\n",
       "\n",
       "    .dataframe thead th {\n",
       "        text-align: right;\n",
       "    }\n",
       "</style>\n",
       "<table border=\"1\" class=\"dataframe\">\n",
       "  <thead>\n",
       "    <tr style=\"text-align: right;\">\n",
       "      <th></th>\n",
       "      <th>building_id</th>\n",
       "      <th>geo_level_1_id</th>\n",
       "      <th>geo_level_2_id</th>\n",
       "      <th>geo_level_3_id</th>\n",
       "      <th>count_floors_pre_eq</th>\n",
       "      <th>age</th>\n",
       "      <th>area_percentage</th>\n",
       "      <th>height_percentage</th>\n",
       "      <th>land_surface_condition</th>\n",
       "      <th>foundation_type</th>\n",
       "      <th>...</th>\n",
       "      <th>has_secondary_use_agriculture</th>\n",
       "      <th>has_secondary_use_hotel</th>\n",
       "      <th>has_secondary_use_rental</th>\n",
       "      <th>has_secondary_use_institution</th>\n",
       "      <th>has_secondary_use_school</th>\n",
       "      <th>has_secondary_use_industry</th>\n",
       "      <th>has_secondary_use_health_post</th>\n",
       "      <th>has_secondary_use_gov_office</th>\n",
       "      <th>has_secondary_use_use_police</th>\n",
       "      <th>has_secondary_use_other</th>\n",
       "    </tr>\n",
       "  </thead>\n",
       "  <tbody>\n",
       "    <tr>\n",
       "      <td>0</td>\n",
       "      <td>802906</td>\n",
       "      <td>6</td>\n",
       "      <td>487</td>\n",
       "      <td>12198</td>\n",
       "      <td>2</td>\n",
       "      <td>30</td>\n",
       "      <td>6</td>\n",
       "      <td>5</td>\n",
       "      <td>t</td>\n",
       "      <td>r</td>\n",
       "      <td>...</td>\n",
       "      <td>0</td>\n",
       "      <td>0</td>\n",
       "      <td>0</td>\n",
       "      <td>0</td>\n",
       "      <td>0</td>\n",
       "      <td>0</td>\n",
       "      <td>0</td>\n",
       "      <td>0</td>\n",
       "      <td>0</td>\n",
       "      <td>0</td>\n",
       "    </tr>\n",
       "    <tr>\n",
       "      <td>1</td>\n",
       "      <td>28830</td>\n",
       "      <td>8</td>\n",
       "      <td>900</td>\n",
       "      <td>2812</td>\n",
       "      <td>2</td>\n",
       "      <td>10</td>\n",
       "      <td>8</td>\n",
       "      <td>7</td>\n",
       "      <td>o</td>\n",
       "      <td>r</td>\n",
       "      <td>...</td>\n",
       "      <td>0</td>\n",
       "      <td>0</td>\n",
       "      <td>0</td>\n",
       "      <td>0</td>\n",
       "      <td>0</td>\n",
       "      <td>0</td>\n",
       "      <td>0</td>\n",
       "      <td>0</td>\n",
       "      <td>0</td>\n",
       "      <td>0</td>\n",
       "    </tr>\n",
       "    <tr>\n",
       "      <td>2</td>\n",
       "      <td>94947</td>\n",
       "      <td>21</td>\n",
       "      <td>363</td>\n",
       "      <td>8973</td>\n",
       "      <td>2</td>\n",
       "      <td>10</td>\n",
       "      <td>5</td>\n",
       "      <td>5</td>\n",
       "      <td>t</td>\n",
       "      <td>r</td>\n",
       "      <td>...</td>\n",
       "      <td>0</td>\n",
       "      <td>0</td>\n",
       "      <td>0</td>\n",
       "      <td>0</td>\n",
       "      <td>0</td>\n",
       "      <td>0</td>\n",
       "      <td>0</td>\n",
       "      <td>0</td>\n",
       "      <td>0</td>\n",
       "      <td>0</td>\n",
       "    </tr>\n",
       "    <tr>\n",
       "      <td>3</td>\n",
       "      <td>590882</td>\n",
       "      <td>22</td>\n",
       "      <td>418</td>\n",
       "      <td>10694</td>\n",
       "      <td>2</td>\n",
       "      <td>10</td>\n",
       "      <td>6</td>\n",
       "      <td>5</td>\n",
       "      <td>t</td>\n",
       "      <td>r</td>\n",
       "      <td>...</td>\n",
       "      <td>0</td>\n",
       "      <td>0</td>\n",
       "      <td>0</td>\n",
       "      <td>0</td>\n",
       "      <td>0</td>\n",
       "      <td>0</td>\n",
       "      <td>0</td>\n",
       "      <td>0</td>\n",
       "      <td>0</td>\n",
       "      <td>0</td>\n",
       "    </tr>\n",
       "    <tr>\n",
       "      <td>4</td>\n",
       "      <td>201944</td>\n",
       "      <td>11</td>\n",
       "      <td>131</td>\n",
       "      <td>1488</td>\n",
       "      <td>3</td>\n",
       "      <td>30</td>\n",
       "      <td>8</td>\n",
       "      <td>9</td>\n",
       "      <td>t</td>\n",
       "      <td>r</td>\n",
       "      <td>...</td>\n",
       "      <td>0</td>\n",
       "      <td>0</td>\n",
       "      <td>0</td>\n",
       "      <td>0</td>\n",
       "      <td>0</td>\n",
       "      <td>0</td>\n",
       "      <td>0</td>\n",
       "      <td>0</td>\n",
       "      <td>0</td>\n",
       "      <td>0</td>\n",
       "    </tr>\n",
       "  </tbody>\n",
       "</table>\n",
       "<p>5 rows × 39 columns</p>\n",
       "</div>"
      ],
      "text/plain": [
       "   building_id  geo_level_1_id  geo_level_2_id  geo_level_3_id  \\\n",
       "0       802906               6             487           12198   \n",
       "1        28830               8             900            2812   \n",
       "2        94947              21             363            8973   \n",
       "3       590882              22             418           10694   \n",
       "4       201944              11             131            1488   \n",
       "\n",
       "   count_floors_pre_eq  age  area_percentage  height_percentage  \\\n",
       "0                    2   30                6                  5   \n",
       "1                    2   10                8                  7   \n",
       "2                    2   10                5                  5   \n",
       "3                    2   10                6                  5   \n",
       "4                    3   30                8                  9   \n",
       "\n",
       "  land_surface_condition foundation_type  ... has_secondary_use_agriculture  \\\n",
       "0                      t               r  ...                             0   \n",
       "1                      o               r  ...                             0   \n",
       "2                      t               r  ...                             0   \n",
       "3                      t               r  ...                             0   \n",
       "4                      t               r  ...                             0   \n",
       "\n",
       "  has_secondary_use_hotel has_secondary_use_rental  \\\n",
       "0                       0                        0   \n",
       "1                       0                        0   \n",
       "2                       0                        0   \n",
       "3                       0                        0   \n",
       "4                       0                        0   \n",
       "\n",
       "  has_secondary_use_institution has_secondary_use_school  \\\n",
       "0                             0                        0   \n",
       "1                             0                        0   \n",
       "2                             0                        0   \n",
       "3                             0                        0   \n",
       "4                             0                        0   \n",
       "\n",
       "   has_secondary_use_industry  has_secondary_use_health_post  \\\n",
       "0                           0                              0   \n",
       "1                           0                              0   \n",
       "2                           0                              0   \n",
       "3                           0                              0   \n",
       "4                           0                              0   \n",
       "\n",
       "   has_secondary_use_gov_office  has_secondary_use_use_police  \\\n",
       "0                             0                             0   \n",
       "1                             0                             0   \n",
       "2                             0                             0   \n",
       "3                             0                             0   \n",
       "4                             0                             0   \n",
       "\n",
       "   has_secondary_use_other  \n",
       "0                        0  \n",
       "1                        0  \n",
       "2                        0  \n",
       "3                        0  \n",
       "4                        0  \n",
       "\n",
       "[5 rows x 39 columns]"
      ]
     },
     "metadata": {},
     "output_type": "display_data"
    },
    {
     "name": "stdout",
     "output_type": "stream",
     "text": [
      "\n",
      "Cibles\n"
     ]
    },
    {
     "data": {
      "text/html": [
       "<div>\n",
       "<style scoped>\n",
       "    .dataframe tbody tr th:only-of-type {\n",
       "        vertical-align: middle;\n",
       "    }\n",
       "\n",
       "    .dataframe tbody tr th {\n",
       "        vertical-align: top;\n",
       "    }\n",
       "\n",
       "    .dataframe thead th {\n",
       "        text-align: right;\n",
       "    }\n",
       "</style>\n",
       "<table border=\"1\" class=\"dataframe\">\n",
       "  <thead>\n",
       "    <tr style=\"text-align: right;\">\n",
       "      <th></th>\n",
       "      <th>building_id</th>\n",
       "      <th>damage_grade</th>\n",
       "    </tr>\n",
       "  </thead>\n",
       "  <tbody>\n",
       "    <tr>\n",
       "      <td>0</td>\n",
       "      <td>802906</td>\n",
       "      <td>3</td>\n",
       "    </tr>\n",
       "    <tr>\n",
       "      <td>1</td>\n",
       "      <td>28830</td>\n",
       "      <td>2</td>\n",
       "    </tr>\n",
       "    <tr>\n",
       "      <td>2</td>\n",
       "      <td>94947</td>\n",
       "      <td>3</td>\n",
       "    </tr>\n",
       "    <tr>\n",
       "      <td>3</td>\n",
       "      <td>590882</td>\n",
       "      <td>2</td>\n",
       "    </tr>\n",
       "    <tr>\n",
       "      <td>4</td>\n",
       "      <td>201944</td>\n",
       "      <td>3</td>\n",
       "    </tr>\n",
       "  </tbody>\n",
       "</table>\n",
       "</div>"
      ],
      "text/plain": [
       "   building_id  damage_grade\n",
       "0       802906             3\n",
       "1        28830             2\n",
       "2        94947             3\n",
       "3       590882             2\n",
       "4       201944             3"
      ]
     },
     "metadata": {},
     "output_type": "display_data"
    }
   ],
   "source": [
    "import pandas as pd\n",
    "import numpy as np\n",
    "import matplotlib.pyplot as plt\n",
    "\n",
    "file_train_values='data/train_values.csv'\n",
    "file_train_labels='data/train_labels.csv'\n",
    "\n",
    "df_val = pd.read_csv(file_train_values,sep=\",\",header=0)\n",
    "df_label = pd.read_csv(file_train_labels,sep=\",\",header=0)\n",
    "print('Shape du fichier des valeurs d\\'entraînement : {}'.format(df_val.shape))\n",
    "print('Shape du fichier des cibles d\\'entraînement : {}'.format(df_label.shape))\n",
    "print('\\nValeurs')\n",
    "display(df_val.head())\n",
    "print('\\nCibles')\n",
    "display(df_label.head())"
   ]
  },
  {
   "cell_type": "markdown",
   "metadata": {},
   "source": [
    "### Fonctions de préparation des données"
   ]
  },
  {
   "cell_type": "markdown",
   "metadata": {},
   "source": [
    "##### Catégorisation des colonnes : fonction categorized"
   ]
  },
  {
   "cell_type": "code",
   "execution_count": 2,
   "metadata": {},
   "outputs": [],
   "source": [
    "# Catégorisation des colonnes : fonction categorized\n",
    "def categorized(data, columns_bool, columns_category):    \n",
    "    data[data_columns_bool]=data[columns_bool].astype(bool)\n",
    "    data[data_columns_category]=data[columns_category].astype('category')\n",
    "    return data"
   ]
  },
  {
   "cell_type": "markdown",
   "metadata": {},
   "source": [
    "#### Pour mise en place d'un polynôme degré 2, 3 et 1/2 1/3 et 1x2, 1x2x3 sur geo_level : fonction polynôme"
   ]
  },
  {
   "cell_type": "code",
   "execution_count": 3,
   "metadata": {},
   "outputs": [],
   "source": [
    "# Pour mise en place d'un polynôme degré 2 et 1/2 sur geo_level : fonction polynôme\n",
    "import math\n",
    "\n",
    "def polynome(data):\n",
    "    data['geo_level_1_id2']=data['geo_level_1_id']**2\n",
    "    data['geo_level_2_id2']=data['geo_level_2_id']**2\n",
    "    data['geo_level_3_id2']=data['geo_level_3_id']**2\n",
    "\n",
    "    data['geo_level_1_id05']=data['geo_level_1_id']**0.5\n",
    "    data['geo_level_2_id05']=data['geo_level_2_id']**0.5\n",
    "    data['geo_level_3_id05']=data['geo_level_3_id']**0.5\n",
    "    \n",
    "    data['geo_level_1_id3']=data['geo_level_1_id']**3\n",
    "    data['geo_level_2_id3']=data['geo_level_2_id']**3\n",
    "    data['geo_level_3_id3']=data['geo_level_3_id']**3\n",
    "    \n",
    "    data['geo_level_1_id03']=data['geo_level_1_id']**0.333\n",
    "    data['geo_level_2_id03']=data['geo_level_2_id']**0.333\n",
    "    data['geo_level_3_id03']=data['geo_level_3_id']**0.333\n",
    "    \n",
    "    data['geo_level_12_id']=data['geo_level_1_id']*data['geo_level_2_id']\n",
    "    data['geo_level_123_id']=data['geo_level_1_id']*data['geo_level_2_id']*data['geo_level_3_id']\n",
    "    \n",
    "    #data['geo_level_sin12_id']=math.pi*data['geo_level_12_id']/data['geo_level_12_id'].max()\n",
    "    #data['geo_level_sin123_id']=math.pi*data['geo_level_123_id']/data['geo_level_123_id'].max()\n",
    "    \n",
    "    return data"
   ]
  },
  {
   "cell_type": "markdown",
   "metadata": {},
   "source": [
    "#### Application d'un MinMaxScaler : fonction scalered"
   ]
  },
  {
   "cell_type": "code",
   "execution_count": 4,
   "metadata": {},
   "outputs": [],
   "source": [
    "# Application d'un MinMaxScaler : fonction scalered\n",
    "from sklearn.preprocessing import MinMaxScaler\n",
    "\n",
    "def scalered(data, columns):\n",
    "    scaler = MinMaxScaler()\n",
    "    data_scaler=scaler.fit_transform(data[columns])\n",
    "    data_scaled=data\n",
    "    data_scaled[columns]=data_scaler\n",
    "    return data_scaled"
   ]
  },
  {
   "cell_type": "markdown",
   "metadata": {},
   "source": [
    "##### Application d'un Get_dummies sur les colonnes catégorisées : fonction dummy"
   ]
  },
  {
   "cell_type": "code",
   "execution_count": 5,
   "metadata": {},
   "outputs": [],
   "source": [
    "# Application d'un Get_dummies sur les colonnes catégorisées : fonction dummy\n",
    "def dummy(data):\n",
    "    return pd.get_dummies(data)"
   ]
  },
  {
   "cell_type": "markdown",
   "metadata": {},
   "source": [
    "### Préparation effective des données"
   ]
  },
  {
   "cell_type": "code",
   "execution_count": 6,
   "metadata": {},
   "outputs": [],
   "source": [
    "data_columns_bool=['has_superstructure_adobe_mud','has_superstructure_mud_mortar_stone','has_superstructure_stone_flag',\\\n",
    "        'has_superstructure_cement_mortar_stone','has_superstructure_mud_mortar_brick',\\\n",
    "        'has_superstructure_timber','has_superstructure_bamboo',\\\n",
    "        'has_superstructure_cement_mortar_brick','has_superstructure_rc_non_engineered','has_superstructure_rc_engineered',\\\n",
    "        'has_superstructure_other','has_secondary_use', 'has_secondary_use_agriculture', 'has_secondary_use_hotel',\\\n",
    "        'has_secondary_use_rental','has_secondary_use_institution', 'has_secondary_use_school', 'has_secondary_use_industry',\\\n",
    "        'has_secondary_use_health_post','has_secondary_use_gov_office','has_secondary_use_use_police','has_secondary_use_other']\n",
    "\n",
    "data_columns_category=['land_surface_condition','foundation_type','roof_type','ground_floor_type','other_floor_type',\\\n",
    "                       'position', 'plan_configuration', 'legal_ownership_status']\n",
    "\n",
    "data_columns_integer=['geo_level_1_id', 'geo_level_2_id', 'geo_level_3_id',\\\n",
    "                      'geo_level_12_id', 'geo_level_123_id',\\\n",
    "                      #'geo_level_sin12_id', 'geo_level_sin123_id',\\\n",
    "                      'geo_level_1_id2', 'geo_level_2_id2', 'geo_level_3_id2',\\\n",
    "                      'geo_level_1_id05', 'geo_level_2_id05', 'geo_level_3_id05',\\\n",
    "                      'geo_level_1_id3', 'geo_level_2_id3', 'geo_level_3_id3',\\\n",
    "                      'geo_level_1_id03', 'geo_level_2_id03', 'geo_level_3_id03',\\\n",
    "                      'count_floors_pre_eq','age','area_percentage','height_percentage', 'count_families']"
   ]
  },
  {
   "cell_type": "code",
   "execution_count": 7,
   "metadata": {},
   "outputs": [
    {
     "data": {
      "text/html": [
       "<div>\n",
       "<style scoped>\n",
       "    .dataframe tbody tr th:only-of-type {\n",
       "        vertical-align: middle;\n",
       "    }\n",
       "\n",
       "    .dataframe tbody tr th {\n",
       "        vertical-align: top;\n",
       "    }\n",
       "\n",
       "    .dataframe thead th {\n",
       "        text-align: right;\n",
       "    }\n",
       "</style>\n",
       "<table border=\"1\" class=\"dataframe\">\n",
       "  <thead>\n",
       "    <tr style=\"text-align: right;\">\n",
       "      <th></th>\n",
       "      <th>geo_level_1_id</th>\n",
       "      <th>geo_level_2_id</th>\n",
       "      <th>geo_level_3_id</th>\n",
       "      <th>geo_level_12_id</th>\n",
       "      <th>geo_level_123_id</th>\n",
       "      <th>geo_level_1_id2</th>\n",
       "      <th>geo_level_2_id2</th>\n",
       "      <th>geo_level_3_id2</th>\n",
       "      <th>geo_level_1_id05</th>\n",
       "      <th>geo_level_2_id05</th>\n",
       "      <th>...</th>\n",
       "      <th>geo_level_2_id3</th>\n",
       "      <th>geo_level_3_id3</th>\n",
       "      <th>geo_level_1_id03</th>\n",
       "      <th>geo_level_2_id03</th>\n",
       "      <th>geo_level_3_id03</th>\n",
       "      <th>count_floors_pre_eq</th>\n",
       "      <th>age</th>\n",
       "      <th>area_percentage</th>\n",
       "      <th>height_percentage</th>\n",
       "      <th>count_families</th>\n",
       "    </tr>\n",
       "  </thead>\n",
       "  <tbody>\n",
       "    <tr>\n",
       "      <td>0</td>\n",
       "      <td>0.200000</td>\n",
       "      <td>0.341275</td>\n",
       "      <td>0.970637</td>\n",
       "      <td>0.070022</td>\n",
       "      <td>0.073391</td>\n",
       "      <td>0.040000</td>\n",
       "      <td>0.116469</td>\n",
       "      <td>0.942137</td>\n",
       "      <td>0.447214</td>\n",
       "      <td>0.584188</td>\n",
       "      <td>...</td>\n",
       "      <td>0.039748</td>\n",
       "      <td>0.914473</td>\n",
       "      <td>0.585117</td>\n",
       "      <td>0.699075</td>\n",
       "      <td>0.990125</td>\n",
       "      <td>0.125</td>\n",
       "      <td>0.030151</td>\n",
       "      <td>0.050505</td>\n",
       "      <td>0.100000</td>\n",
       "      <td>0.111111</td>\n",
       "    </tr>\n",
       "    <tr>\n",
       "      <td>1</td>\n",
       "      <td>0.266667</td>\n",
       "      <td>0.630694</td>\n",
       "      <td>0.223761</td>\n",
       "      <td>0.172538</td>\n",
       "      <td>0.041689</td>\n",
       "      <td>0.071111</td>\n",
       "      <td>0.397775</td>\n",
       "      <td>0.050069</td>\n",
       "      <td>0.516398</td>\n",
       "      <td>0.794162</td>\n",
       "      <td>...</td>\n",
       "      <td>0.250874</td>\n",
       "      <td>0.011203</td>\n",
       "      <td>0.643943</td>\n",
       "      <td>0.857708</td>\n",
       "      <td>0.607404</td>\n",
       "      <td>0.125</td>\n",
       "      <td>0.010050</td>\n",
       "      <td>0.070707</td>\n",
       "      <td>0.166667</td>\n",
       "      <td>0.111111</td>\n",
       "    </tr>\n",
       "    <tr>\n",
       "      <td>2</td>\n",
       "      <td>0.700000</td>\n",
       "      <td>0.254380</td>\n",
       "      <td>0.714013</td>\n",
       "      <td>0.182674</td>\n",
       "      <td>0.140844</td>\n",
       "      <td>0.490000</td>\n",
       "      <td>0.064709</td>\n",
       "      <td>0.509814</td>\n",
       "      <td>0.836660</td>\n",
       "      <td>0.504361</td>\n",
       "      <td>...</td>\n",
       "      <td>0.016461</td>\n",
       "      <td>0.364014</td>\n",
       "      <td>0.888010</td>\n",
       "      <td>0.633907</td>\n",
       "      <td>0.893890</td>\n",
       "      <td>0.125</td>\n",
       "      <td>0.010050</td>\n",
       "      <td>0.040404</td>\n",
       "      <td>0.100000</td>\n",
       "      <td>0.111111</td>\n",
       "    </tr>\n",
       "    <tr>\n",
       "      <td>3</td>\n",
       "      <td>0.733333</td>\n",
       "      <td>0.292922</td>\n",
       "      <td>0.850959</td>\n",
       "      <td>0.220369</td>\n",
       "      <td>0.202494</td>\n",
       "      <td>0.537778</td>\n",
       "      <td>0.085803</td>\n",
       "      <td>0.724131</td>\n",
       "      <td>0.856349</td>\n",
       "      <td>0.541223</td>\n",
       "      <td>...</td>\n",
       "      <td>0.025134</td>\n",
       "      <td>0.616206</td>\n",
       "      <td>0.901873</td>\n",
       "      <td>0.664398</td>\n",
       "      <td>0.947675</td>\n",
       "      <td>0.125</td>\n",
       "      <td>0.010050</td>\n",
       "      <td>0.050505</td>\n",
       "      <td>0.100000</td>\n",
       "      <td>0.111111</td>\n",
       "    </tr>\n",
       "    <tr>\n",
       "      <td>4</td>\n",
       "      <td>0.366667</td>\n",
       "      <td>0.091801</td>\n",
       "      <td>0.118405</td>\n",
       "      <td>0.034532</td>\n",
       "      <td>0.004415</td>\n",
       "      <td>0.134444</td>\n",
       "      <td>0.008427</td>\n",
       "      <td>0.014020</td>\n",
       "      <td>0.605530</td>\n",
       "      <td>0.302987</td>\n",
       "      <td>...</td>\n",
       "      <td>0.000774</td>\n",
       "      <td>0.001660</td>\n",
       "      <td>0.715982</td>\n",
       "      <td>0.451469</td>\n",
       "      <td>0.491397</td>\n",
       "      <td>0.250</td>\n",
       "      <td>0.030151</td>\n",
       "      <td>0.070707</td>\n",
       "      <td>0.233333</td>\n",
       "      <td>0.111111</td>\n",
       "    </tr>\n",
       "    <tr>\n",
       "      <td>5</td>\n",
       "      <td>0.266667</td>\n",
       "      <td>0.391030</td>\n",
       "      <td>0.484523</td>\n",
       "      <td>0.106973</td>\n",
       "      <td>0.055968</td>\n",
       "      <td>0.071111</td>\n",
       "      <td>0.152905</td>\n",
       "      <td>0.234762</td>\n",
       "      <td>0.516398</td>\n",
       "      <td>0.625324</td>\n",
       "      <td>...</td>\n",
       "      <td>0.059790</td>\n",
       "      <td>0.113748</td>\n",
       "      <td>0.643943</td>\n",
       "      <td>0.731486</td>\n",
       "      <td>0.785615</td>\n",
       "      <td>0.125</td>\n",
       "      <td>0.010050</td>\n",
       "      <td>0.080808</td>\n",
       "      <td>0.100000</td>\n",
       "      <td>0.111111</td>\n",
       "    </tr>\n",
       "    <tr>\n",
       "      <td>6</td>\n",
       "      <td>0.300000</td>\n",
       "      <td>0.332866</td>\n",
       "      <td>0.960134</td>\n",
       "      <td>0.102444</td>\n",
       "      <td>0.106212</td>\n",
       "      <td>0.090000</td>\n",
       "      <td>0.110800</td>\n",
       "      <td>0.921857</td>\n",
       "      <td>0.547723</td>\n",
       "      <td>0.576946</td>\n",
       "      <td>...</td>\n",
       "      <td>0.036882</td>\n",
       "      <td>0.885106</td>\n",
       "      <td>0.669702</td>\n",
       "      <td>0.693291</td>\n",
       "      <td>0.986544</td>\n",
       "      <td>0.125</td>\n",
       "      <td>0.025126</td>\n",
       "      <td>0.020202</td>\n",
       "      <td>0.066667</td>\n",
       "      <td>0.111111</td>\n",
       "    </tr>\n",
       "    <tr>\n",
       "      <td>7</td>\n",
       "      <td>0.666667</td>\n",
       "      <td>0.226349</td>\n",
       "      <td>0.973661</td>\n",
       "      <td>0.154805</td>\n",
       "      <td>0.162759</td>\n",
       "      <td>0.444444</td>\n",
       "      <td>0.051234</td>\n",
       "      <td>0.948016</td>\n",
       "      <td>0.816497</td>\n",
       "      <td>0.475761</td>\n",
       "      <td>...</td>\n",
       "      <td>0.011597</td>\n",
       "      <td>0.923046</td>\n",
       "      <td>0.873699</td>\n",
       "      <td>0.609735</td>\n",
       "      <td>0.991151</td>\n",
       "      <td>0.125</td>\n",
       "      <td>0.000000</td>\n",
       "      <td>0.070707</td>\n",
       "      <td>0.133333</td>\n",
       "      <td>0.111111</td>\n",
       "    </tr>\n",
       "    <tr>\n",
       "      <td>8</td>\n",
       "      <td>0.000000</td>\n",
       "      <td>0.530484</td>\n",
       "      <td>0.574441</td>\n",
       "      <td>0.000000</td>\n",
       "      <td>0.000000</td>\n",
       "      <td>0.000000</td>\n",
       "      <td>0.281413</td>\n",
       "      <td>0.329982</td>\n",
       "      <td>0.000000</td>\n",
       "      <td>0.728343</td>\n",
       "      <td>...</td>\n",
       "      <td>0.149285</td>\n",
       "      <td>0.189555</td>\n",
       "      <td>0.000000</td>\n",
       "      <td>0.809684</td>\n",
       "      <td>0.831436</td>\n",
       "      <td>0.125</td>\n",
       "      <td>0.015075</td>\n",
       "      <td>0.070707</td>\n",
       "      <td>0.133333</td>\n",
       "      <td>0.111111</td>\n",
       "    </tr>\n",
       "    <tr>\n",
       "      <td>9</td>\n",
       "      <td>0.866667</td>\n",
       "      <td>0.620883</td>\n",
       "      <td>0.079096</td>\n",
       "      <td>0.552025</td>\n",
       "      <td>0.047148</td>\n",
       "      <td>0.751111</td>\n",
       "      <td>0.385496</td>\n",
       "      <td>0.006256</td>\n",
       "      <td>0.930949</td>\n",
       "      <td>0.787961</td>\n",
       "      <td>...</td>\n",
       "      <td>0.239348</td>\n",
       "      <td>0.000495</td>\n",
       "      <td>0.953465</td>\n",
       "      <td>0.853242</td>\n",
       "      <td>0.429621</td>\n",
       "      <td>0.000</td>\n",
       "      <td>0.000000</td>\n",
       "      <td>0.121212</td>\n",
       "      <td>0.066667</td>\n",
       "      <td>0.111111</td>\n",
       "    </tr>\n",
       "  </tbody>\n",
       "</table>\n",
       "<p>10 rows × 22 columns</p>\n",
       "</div>"
      ],
      "text/plain": [
       "   geo_level_1_id  geo_level_2_id  geo_level_3_id  geo_level_12_id  \\\n",
       "0        0.200000        0.341275        0.970637         0.070022   \n",
       "1        0.266667        0.630694        0.223761         0.172538   \n",
       "2        0.700000        0.254380        0.714013         0.182674   \n",
       "3        0.733333        0.292922        0.850959         0.220369   \n",
       "4        0.366667        0.091801        0.118405         0.034532   \n",
       "5        0.266667        0.391030        0.484523         0.106973   \n",
       "6        0.300000        0.332866        0.960134         0.102444   \n",
       "7        0.666667        0.226349        0.973661         0.154805   \n",
       "8        0.000000        0.530484        0.574441         0.000000   \n",
       "9        0.866667        0.620883        0.079096         0.552025   \n",
       "\n",
       "   geo_level_123_id  geo_level_1_id2  geo_level_2_id2  geo_level_3_id2  \\\n",
       "0          0.073391         0.040000         0.116469         0.942137   \n",
       "1          0.041689         0.071111         0.397775         0.050069   \n",
       "2          0.140844         0.490000         0.064709         0.509814   \n",
       "3          0.202494         0.537778         0.085803         0.724131   \n",
       "4          0.004415         0.134444         0.008427         0.014020   \n",
       "5          0.055968         0.071111         0.152905         0.234762   \n",
       "6          0.106212         0.090000         0.110800         0.921857   \n",
       "7          0.162759         0.444444         0.051234         0.948016   \n",
       "8          0.000000         0.000000         0.281413         0.329982   \n",
       "9          0.047148         0.751111         0.385496         0.006256   \n",
       "\n",
       "   geo_level_1_id05  geo_level_2_id05  ...  geo_level_2_id3  geo_level_3_id3  \\\n",
       "0          0.447214          0.584188  ...         0.039748         0.914473   \n",
       "1          0.516398          0.794162  ...         0.250874         0.011203   \n",
       "2          0.836660          0.504361  ...         0.016461         0.364014   \n",
       "3          0.856349          0.541223  ...         0.025134         0.616206   \n",
       "4          0.605530          0.302987  ...         0.000774         0.001660   \n",
       "5          0.516398          0.625324  ...         0.059790         0.113748   \n",
       "6          0.547723          0.576946  ...         0.036882         0.885106   \n",
       "7          0.816497          0.475761  ...         0.011597         0.923046   \n",
       "8          0.000000          0.728343  ...         0.149285         0.189555   \n",
       "9          0.930949          0.787961  ...         0.239348         0.000495   \n",
       "\n",
       "   geo_level_1_id03  geo_level_2_id03  geo_level_3_id03  count_floors_pre_eq  \\\n",
       "0          0.585117          0.699075          0.990125                0.125   \n",
       "1          0.643943          0.857708          0.607404                0.125   \n",
       "2          0.888010          0.633907          0.893890                0.125   \n",
       "3          0.901873          0.664398          0.947675                0.125   \n",
       "4          0.715982          0.451469          0.491397                0.250   \n",
       "5          0.643943          0.731486          0.785615                0.125   \n",
       "6          0.669702          0.693291          0.986544                0.125   \n",
       "7          0.873699          0.609735          0.991151                0.125   \n",
       "8          0.000000          0.809684          0.831436                0.125   \n",
       "9          0.953465          0.853242          0.429621                0.000   \n",
       "\n",
       "        age  area_percentage  height_percentage  count_families  \n",
       "0  0.030151         0.050505           0.100000        0.111111  \n",
       "1  0.010050         0.070707           0.166667        0.111111  \n",
       "2  0.010050         0.040404           0.100000        0.111111  \n",
       "3  0.010050         0.050505           0.100000        0.111111  \n",
       "4  0.030151         0.070707           0.233333        0.111111  \n",
       "5  0.010050         0.080808           0.100000        0.111111  \n",
       "6  0.025126         0.020202           0.066667        0.111111  \n",
       "7  0.000000         0.070707           0.133333        0.111111  \n",
       "8  0.015075         0.070707           0.133333        0.111111  \n",
       "9  0.000000         0.121212           0.066667        0.111111  \n",
       "\n",
       "[10 rows x 22 columns]"
      ]
     },
     "metadata": {},
     "output_type": "display_data"
    },
    {
     "name": "stdout",
     "output_type": "stream",
     "text": [
      "Shape final : (260601, 83)\n",
      "\n",
      "<class 'pandas.core.frame.DataFrame'>\n",
      "RangeIndex: 260601 entries, 0 to 260600\n",
      "Data columns (total 83 columns):\n",
      "building_id                               260601 non-null int64\n",
      "geo_level_1_id                            260601 non-null float64\n",
      "geo_level_2_id                            260601 non-null float64\n",
      "geo_level_3_id                            260601 non-null float64\n",
      "count_floors_pre_eq                       260601 non-null float64\n",
      "age                                       260601 non-null float64\n",
      "area_percentage                           260601 non-null float64\n",
      "height_percentage                         260601 non-null float64\n",
      "has_superstructure_adobe_mud              260601 non-null bool\n",
      "has_superstructure_mud_mortar_stone       260601 non-null bool\n",
      "has_superstructure_stone_flag             260601 non-null bool\n",
      "has_superstructure_cement_mortar_stone    260601 non-null bool\n",
      "has_superstructure_mud_mortar_brick       260601 non-null bool\n",
      "has_superstructure_cement_mortar_brick    260601 non-null bool\n",
      "has_superstructure_timber                 260601 non-null bool\n",
      "has_superstructure_bamboo                 260601 non-null bool\n",
      "has_superstructure_rc_non_engineered      260601 non-null bool\n",
      "has_superstructure_rc_engineered          260601 non-null bool\n",
      "has_superstructure_other                  260601 non-null bool\n",
      "count_families                            260601 non-null float64\n",
      "has_secondary_use                         260601 non-null bool\n",
      "has_secondary_use_agriculture             260601 non-null bool\n",
      "has_secondary_use_hotel                   260601 non-null bool\n",
      "has_secondary_use_rental                  260601 non-null bool\n",
      "has_secondary_use_institution             260601 non-null bool\n",
      "has_secondary_use_school                  260601 non-null bool\n",
      "has_secondary_use_industry                260601 non-null bool\n",
      "has_secondary_use_health_post             260601 non-null bool\n",
      "has_secondary_use_gov_office              260601 non-null bool\n",
      "has_secondary_use_use_police              260601 non-null bool\n",
      "has_secondary_use_other                   260601 non-null bool\n",
      "geo_level_1_id2                           260601 non-null float64\n",
      "geo_level_2_id2                           260601 non-null float64\n",
      "geo_level_3_id2                           260601 non-null float64\n",
      "geo_level_1_id05                          260601 non-null float64\n",
      "geo_level_2_id05                          260601 non-null float64\n",
      "geo_level_3_id05                          260601 non-null float64\n",
      "geo_level_1_id3                           260601 non-null float64\n",
      "geo_level_2_id3                           260601 non-null float64\n",
      "geo_level_3_id3                           260601 non-null float64\n",
      "geo_level_1_id03                          260601 non-null float64\n",
      "geo_level_2_id03                          260601 non-null float64\n",
      "geo_level_3_id03                          260601 non-null float64\n",
      "geo_level_12_id                           260601 non-null float64\n",
      "geo_level_123_id                          260601 non-null float64\n",
      "land_surface_condition_n                  260601 non-null uint8\n",
      "land_surface_condition_o                  260601 non-null uint8\n",
      "land_surface_condition_t                  260601 non-null uint8\n",
      "foundation_type_h                         260601 non-null uint8\n",
      "foundation_type_i                         260601 non-null uint8\n",
      "foundation_type_r                         260601 non-null uint8\n",
      "foundation_type_u                         260601 non-null uint8\n",
      "foundation_type_w                         260601 non-null uint8\n",
      "roof_type_n                               260601 non-null uint8\n",
      "roof_type_q                               260601 non-null uint8\n",
      "roof_type_x                               260601 non-null uint8\n",
      "ground_floor_type_f                       260601 non-null uint8\n",
      "ground_floor_type_m                       260601 non-null uint8\n",
      "ground_floor_type_v                       260601 non-null uint8\n",
      "ground_floor_type_x                       260601 non-null uint8\n",
      "ground_floor_type_z                       260601 non-null uint8\n",
      "other_floor_type_j                        260601 non-null uint8\n",
      "other_floor_type_q                        260601 non-null uint8\n",
      "other_floor_type_s                        260601 non-null uint8\n",
      "other_floor_type_x                        260601 non-null uint8\n",
      "position_j                                260601 non-null uint8\n",
      "position_o                                260601 non-null uint8\n",
      "position_s                                260601 non-null uint8\n",
      "position_t                                260601 non-null uint8\n",
      "plan_configuration_a                      260601 non-null uint8\n",
      "plan_configuration_c                      260601 non-null uint8\n",
      "plan_configuration_d                      260601 non-null uint8\n",
      "plan_configuration_f                      260601 non-null uint8\n",
      "plan_configuration_m                      260601 non-null uint8\n",
      "plan_configuration_n                      260601 non-null uint8\n",
      "plan_configuration_o                      260601 non-null uint8\n",
      "plan_configuration_q                      260601 non-null uint8\n",
      "plan_configuration_s                      260601 non-null uint8\n",
      "plan_configuration_u                      260601 non-null uint8\n",
      "legal_ownership_status_a                  260601 non-null uint8\n",
      "legal_ownership_status_r                  260601 non-null uint8\n",
      "legal_ownership_status_v                  260601 non-null uint8\n",
      "legal_ownership_status_w                  260601 non-null uint8\n",
      "dtypes: bool(22), float64(22), int64(1), uint8(38)\n",
      "memory usage: 60.6 MB\n"
     ]
    }
   ],
   "source": [
    "data=categorized(df_val,data_columns_bool, data_columns_category)\n",
    "data=polynome(data)\n",
    "data_scaled=scalered(data, data_columns_integer)\n",
    "display(data_scaled[data_columns_integer].head(10))\n",
    "#data_scaled.info()\n",
    "data_scaled_extended = dummy(data_scaled)\n",
    "print(\"Shape final : {}\\n\".format(str(data_scaled_extended.shape)))\n",
    "data_scaled_extended.info()\n",
    "\n",
    "# VERSION NON MISE A L'ECHELLE\n",
    "data_no_scaled_extended = dummy(data)"
   ]
  },
  {
   "cell_type": "markdown",
   "metadata": {},
   "source": [
    "### Fonction de mesure du temps d'exécution LoggerTimer"
   ]
  },
  {
   "cell_type": "code",
   "execution_count": 8,
   "metadata": {},
   "outputs": [],
   "source": [
    "import time\n",
    "\n",
    "def time_HMS(s):\n",
    "    try:\n",
    "        return time.strftime('%Hh %M\\' %S\\\" ', time.gmtime(s))\n",
    "    except:\n",
    "        return ''    \n",
    "class Timer(object):  \n",
    "    def __enter__(self):  \n",
    "        self.start()  \n",
    "        # __enter__ must return an instance bound with the \"as\" keyword  \n",
    "        return self        \n",
    "    # There are other arguments to __exit__ but we don't care here  \n",
    "    def __exit__(self, *args, **kwargs):   \n",
    "        self.stop()        \n",
    "    def start(self):  \n",
    "        if hasattr(self, 'interval'):  \n",
    "            del self.interval  \n",
    "        self.start_time = time.time()    \n",
    "    def stop(self):  \n",
    "        if hasattr(self, 'start_time'):  \n",
    "            self.interval = time.time() - self.start_time  \n",
    "            del self.start_time # Force timer reinit  \n",
    "class LoggerTimer(Timer):  \n",
    "    @staticmethod  \n",
    "    def default_logger(msg):  \n",
    "        print (msg)    \n",
    "    def __init__(self, prefix='', func=None):  \n",
    "        # Use func if not None else the default one  \n",
    "        self.f = func or LoggerTimer.default_logger  \n",
    "        # Format the prefix if not None or empty, else use empty string  \n",
    "        self.prefix = ' {0}: '.format(prefix if prefix else '0')  \n",
    "    def stop(self):  \n",
    "        # Call the parent method  \n",
    "        super(LoggerTimer, self).stop()  \n",
    "        # Call the logging function with the message  \n",
    "        self.f('{0}{1}'.format(self.prefix, time_HMS(self.interval)))   "
   ]
  },
  {
   "cell_type": "markdown",
   "metadata": {},
   "source": [
    "### Fonction d'affichage graphique du TOP xx des colonnes utilisées"
   ]
  },
  {
   "cell_type": "code",
   "execution_count": 9,
   "metadata": {},
   "outputs": [],
   "source": [
    "def top_feature_importance(data, importance_values, nb_top):\n",
    "    indices = np.argsort(importance_values)[::-1]\n",
    "    top=np.min([nb_top, data.shape[1]])\n",
    "    indices=indices[:top]\n",
    "    plt.figure(1, figsize=(20, 5))\n",
    "    plt.title(\"Feature importances : TOP {}\".format(top))\n",
    "    plt.bar(range(top), importance_values[indices], color=\"r\", align=\"center\", alpha=0.5)\n",
    "    plt.xticks(range(top), data.columns[indices], rotation='90')\n",
    "    plt.xlim([-1,top])\n",
    "    plt.show()"
   ]
  },
  {
   "cell_type": "markdown",
   "metadata": {},
   "source": [
    "## Construction des modèles\n",
    "\n",
    "#### Constitution bases d'entraînement et base de test  (des colonnes ne sont pas prise en compte, building_id par exemple)"
   ]
  },
  {
   "cell_type": "code",
   "execution_count": 10,
   "metadata": {},
   "outputs": [],
   "source": [
    "from sklearn.model_selection import train_test_split\n",
    "\n",
    "cols_a_enlever = ['building_id']\n",
    "cols_a_conserver=[col for col in data_scaled_extended.columns if col not in cols_a_enlever ]\n",
    "X_train, X_test, y_train, y_test = train_test_split(data_scaled_extended[cols_a_conserver], df_label['damage_grade']\\\n",
    "                                                    , stratify=df_label['damage_grade'], random_state=94)\n",
    "\n",
    "# version2 sur les données non mises à l'échelle\n",
    "X_train2, X_test2, y_train2, y_test2 = train_test_split(data_no_scaled_extended[cols_a_conserver], df_label['damage_grade']\\\n",
    "                                                        , stratify=df_label['damage_grade'], random_state=94)"
   ]
  },
  {
   "cell_type": "markdown",
   "metadata": {},
   "source": [
    "##### ---------------------------------------------------------------------------------------------------------------------------------------------------------------------------------------------------------\n",
    "\n",
    "#### Modèle Bayésien naïf - GaussianNB : clf (très rapide mais piètre résultat)"
   ]
  },
  {
   "cell_type": "code",
   "execution_count": 12,
   "metadata": {},
   "outputs": [
    {
     "name": "stdout",
     "output_type": "stream",
     "text": [
      " Durée d'exécution : 00h 00' 01\" \n",
      "Bayésien naïf - GaussianNB - Précision sur entraînement : 0.4188\n",
      "Bayésien naïf - GaussianNB - Précision sur test : 0.4216\n"
     ]
    }
   ],
   "source": [
    "from sklearn.naive_bayes import GaussianNB\n",
    "\n",
    "with LoggerTimer(\"Durée d'exécution \"):   \n",
    "    clf = GaussianNB()\n",
    "    clf.fit(X_train, y_train) \n",
    "\n",
    "print('Bayésien naïf - GaussianNB - Précision sur entraînement : {:.4f}'.format(clf.score(X_train, y_train)))\n",
    "print('Bayésien naïf - GaussianNB - Précision sur test : {:.4f}'.format(clf.score(X_test, y_test)))"
   ]
  },
  {
   "cell_type": "markdown",
   "metadata": {},
   "source": [
    "#### Modèle DecisionTreeClassifier : tree"
   ]
  },
  {
   "cell_type": "code",
   "execution_count": 13,
   "metadata": {},
   "outputs": [
    {
     "name": "stdout",
     "output_type": "stream",
     "text": [
      " Durée d'exécution : 00h 00' 05\" \n",
      "DecisionTreeClassifier - Précision sur entraînement : 0.9872\n",
      "DecisionTreeClassifier - Précision sur test : 0.6608\n"
     ]
    },
    {
     "data": {
      "image/png": "[encoded data removed]",
      "text/plain": [
       "<Figure size 1440x360 with 1 Axes>"
      ]
     },
     "metadata": {
      "needs_background": "light"
     },
     "output_type": "display_data"
    }
   ],
   "source": [
    "from sklearn.tree import DecisionTreeClassifier\n",
    "\n",
    "with LoggerTimer(\"Durée d'exécution \"):  \n",
    "    tree = DecisionTreeClassifier(random_state=94)\n",
    "    tree.fit(X_train, y_train)\n",
    "print('DecisionTreeClassifier - Précision sur entraînement : {:.4f}'.format(tree.score(X_train, y_train)))\n",
    "print('DecisionTreeClassifier - Précision sur test : {:.4f}'.format(tree.score(X_test, y_test)))\n",
    "importances = tree.feature_importances_\n",
    "top_feature_importance(X_train, importances, 30)"
   ]
  },
  {
   "cell_type": "markdown",
   "metadata": {},
   "source": [
    "Démonstration que le recalibrage des données n'influe pas sur l'arbre de décision"
   ]
  },
  {
   "cell_type": "code",
   "execution_count": 51,
   "metadata": {},
   "outputs": [
    {
     "name": "stdout",
     "output_type": "stream",
     "text": [
      " Durée d'exécution en secondes: 00h 00' 04\" \n",
      "DecisionTreeClassifier sans mise à l'échelle - Précision sur entraînement : 0.9872\n",
      "DecisionTreeClassifier sans mise à l'échelle - Précision sur test : 0.6608\n"
     ]
    }
   ],
   "source": [
    "with LoggerTimer(\"Durée d'exécution en secondes\"):   \n",
    "    tree2 = DecisionTreeClassifier(random_state=94)\n",
    "    tree2.fit(X_train2, y_train2)\n",
    "\n",
    "print('DecisionTreeClassifier sans mise à l\\'échelle - Précision sur entraînement : {:.4f}'\\\n",
    "      .format(tree2.score(X_train2, y_train2)))\n",
    "print('DecisionTreeClassifier sans mise à l\\'échelle - Précision sur test : {:.4f}'\\\n",
    "      .format(tree2.score(X_test2, y_test2)))"
   ]
  },
  {
   "cell_type": "markdown",
   "metadata": {},
   "source": [
    "#### Modèle RandomForestClassifier : forest\n",
    "\n",
    "#### le résultat s'avère bien meilleur mais le test de soumission s'est avéré au final très mauvais (0.4734) hors polynome\n",
    "\n",
    "Le passage au degré 2 a permis de passerr de 0.717 à 0.729 puis à 0.733 en ajoutant 0.5 et avec mise à l'échelle ensuite\n",
    "Passage 0.737 avec ajout degré 3 et 0.333.\n",
    "\n",
    "L'élimination préalable de building_id réduit ensuite le score"
   ]
  },
  {
   "cell_type": "code",
   "execution_count": 20,
   "metadata": {},
   "outputs": [
    {
     "name": "stdout",
     "output_type": "stream",
     "text": [
      " Durée d'exécution : 00h 00' 49\" \n",
      "RandomForestClassifier - Précision entraînement 100 Estimateurs : 0.9871\n",
      "RandomForestClassifier - Précision test Profondeur 100 Estimateurs : 0.7287\n"
     ]
    },
    {
     "data": {
      "image/png": "[encoded data removed]",
      "text/plain": [
       "<Figure size 1440x360 with 1 Axes>"
      ]
     },
     "metadata": {
      "needs_background": "light"
     },
     "output_type": "display_data"
    }
   ],
   "source": [
    "from sklearn.ensemble import RandomForestClassifier\n",
    "\n",
    "n_estimators=100\n",
    "with LoggerTimer(\"Durée d'exécution \"):  \n",
    "    forest = RandomForestClassifier(n_estimators=n_estimators, random_state = 94)\n",
    "    forest.fit(X_train, y_train)\n",
    "print(\"RandomForestClassifier - Précision entraînement {} Estimateurs : {:.4f}\"\\\n",
    "      .format(n_estimators, forest.score(X_train, y_train)))\n",
    "print(\"RandomForestClassifier - Précision test Profondeur {} Estimateurs : {:.4f}\"\\\n",
    "      .format(n_estimators, forest.score(X_test, y_test)))\n",
    "importances=np.mean([tree.feature_importances_ for tree in forest.estimators_], axis=0)\n",
    "top_feature_importance(X_train, importances, 30)"
   ]
  },
  {
   "cell_type": "markdown",
   "metadata": {},
   "source": [
    "#### Modèle RandomForestClassifier : RandomizedSearchCV pour orienter vers les bons paramètres"
   ]
  },
  {
   "cell_type": "code",
   "execution_count": 22,
   "metadata": {},
   "outputs": [
    {
     "name": "stdout",
     "output_type": "stream",
     "text": [
      "{'n_estimators': [100, 200, 300], 'max_features': ['auto', 'sqrt'], 'max_depth': [10, 60, 110, None], 'min_samples_split': [2, 5, 10], 'min_samples_leaf': [1, 2, 4], 'bootstrap': [True, False]}\n"
     ]
    }
   ],
   "source": [
    "from sklearn.model_selection import RandomizedSearchCV\n",
    "# Number of trees in random forest\n",
    "#n_estimators = [int(x) for x in np.linspace(start = 200, stop = 2000, num = 10)]\n",
    "n_estimators = [int(x) for x in np.linspace(start = 100, stop = 300, num = 3)]\n",
    "# Number of features to consider at every split\n",
    "max_features = ['auto', 'sqrt']\n",
    "# Maximum number of levels in tree\n",
    "#max_depth = [int(x) for x in np.linspace(10, 110, num = 11)]\n",
    "max_depth = [int(x) for x in np.linspace(10, 110, num = 3)]\n",
    "max_depth.append(None)\n",
    "# Minimum number of samples required to split a node\n",
    "min_samples_split = [2, 5, 10]\n",
    "# Minimum number of samples required at each leaf node\n",
    "min_samples_leaf = [1, 2, 4]\n",
    "# Method of selecting samples for training each tree\n",
    "bootstrap = [True, False]\n",
    "# Create the random grid\n",
    "random_grid = {'n_estimators': n_estimators,\n",
    "               'max_features': max_features,\n",
    "               'max_depth': max_depth,\n",
    "               'min_samples_split': min_samples_split,\n",
    "               'min_samples_leaf': min_samples_leaf,\n",
    "               'bootstrap': bootstrap}\n",
    "print(random_grid)\n"
   ]
  },
  {
   "cell_type": "code",
   "execution_count": 23,
   "metadata": {},
   "outputs": [
    {
     "name": "stdout",
     "output_type": "stream",
     "text": [
      "Fitting 3 folds for each of 20 candidates, totalling 60 fits\n"
     ]
    },
    {
     "name": "stderr",
     "output_type": "stream",
     "text": [
      "[Parallel(n_jobs=-1)]: Using backend LokyBackend with 8 concurrent workers.\n",
      "[Parallel(n_jobs=-1)]: Done  25 tasks      | elapsed: 10.2min\n",
      "[Parallel(n_jobs=-1)]: Done  60 out of  60 | elapsed: 20.8min finished\n"
     ]
    },
    {
     "name": "stdout",
     "output_type": "stream",
     "text": [
      "\n",
      "Meilleurs paramètres sur Randomized Search\n",
      "{'n_estimators': 300, 'min_samples_split': 10, 'min_samples_leaf': 2, 'max_features': 'auto', 'max_depth': 60, 'bootstrap': True}\n",
      "Précision sur test : 0.7494\n",
      " Durée d'exécution : 00h 23' 04\" \n"
     ]
    }
   ],
   "source": [
    "with LoggerTimer(\"Durée d'exécution \"): \n",
    "  \n",
    "    # Use the random grid to search for best hyperparameters\n",
    "    # First create the base model to tune\n",
    "    rf = RandomForestClassifier()\n",
    "    # Random search of parameters, using 3 fold cross validation, \n",
    "    # search across 100 different combinations, and use all available cores\n",
    "    rf_random = RandomizedSearchCV(estimator = rf, param_distributions = random_grid,\\\n",
    "                                   n_iter = 20, cv = 3, verbose=2, random_state=94, n_jobs = -1)\n",
    "    # Fit the random search model\n",
    "    rf_random.fit(X_train, y_train)\n",
    "    print('\\nMeilleurs paramètres sur Randomized Search')\n",
    "    print(rf_random.best_params_)\n",
    "    print('Précision sur test : {:.4f}'.format(rf_random.score(X_test, y_test)))\n",
    "    \n",
    "    "
   ]
  },
  {
   "cell_type": "markdown",
   "metadata": {},
   "source": [
    "#### Modèle RandomForestClassifier : GridSearchCV pour affiner les paramètres"
   ]
  },
  {
   "cell_type": "code",
   "execution_count": 16,
   "metadata": {},
   "outputs": [
    {
     "name": "stdout",
     "output_type": "stream",
     "text": [
      "Fitting 3 folds for each of 24 candidates, totalling 72 fits\n",
      "[CV] bootstrap=True, max_depth=60, max_features=auto, min_samples_leaf=2, min_samples_split=8, n_estimators=300 \n"
     ]
    },
    {
     "name": "stderr",
     "output_type": "stream",
     "text": [
      "[Parallel(n_jobs=1)]: Using backend SequentialBackend with 1 concurrent workers.\n"
     ]
    },
    {
     "name": "stdout",
     "output_type": "stream",
     "text": [
      "[CV]  bootstrap=True, max_depth=60, max_features=auto, min_samples_leaf=2, min_samples_split=8, n_estimators=300, total= 1.4min\n",
      "[CV] bootstrap=True, max_depth=60, max_features=auto, min_samples_leaf=2, min_samples_split=8, n_estimators=300 \n"
     ]
    },
    {
     "name": "stderr",
     "output_type": "stream",
     "text": [
      "[Parallel(n_jobs=1)]: Done   1 out of   1 | elapsed:  1.4min remaining:    0.0s\n"
     ]
    },
    {
     "name": "stdout",
     "output_type": "stream",
     "text": [
      "[CV]  bootstrap=True, max_depth=60, max_features=auto, min_samples_leaf=2, min_samples_split=8, n_estimators=300, total= 1.4min\n",
      "[CV] bootstrap=True, max_depth=60, max_features=auto, min_samples_leaf=2, min_samples_split=8, n_estimators=300 \n",
      "[CV]  bootstrap=True, max_depth=60, max_features=auto, min_samples_leaf=2, min_samples_split=8, n_estimators=300, total= 1.4min\n",
      "[CV] bootstrap=True, max_depth=60, max_features=auto, min_samples_leaf=2, min_samples_split=10, n_estimators=300 \n",
      "[CV]  bootstrap=True, max_depth=60, max_features=auto, min_samples_leaf=2, min_samples_split=10, n_estimators=300, total= 1.4min\n",
      "[CV] bootstrap=True, max_depth=60, max_features=auto, min_samples_leaf=2, min_samples_split=10, n_estimators=300 \n",
      "[CV]  bootstrap=True, max_depth=60, max_features=auto, min_samples_leaf=2, min_samples_split=10, n_estimators=300, total= 1.4min\n",
      "[CV] bootstrap=True, max_depth=60, max_features=auto, min_samples_leaf=2, min_samples_split=10, n_estimators=300 \n",
      "[CV]  bootstrap=True, max_depth=60, max_features=auto, min_samples_leaf=2, min_samples_split=10, n_estimators=300, total= 1.4min\n",
      "[CV] bootstrap=True, max_depth=60, max_features=auto, min_samples_leaf=2, min_samples_split=12, n_estimators=300 \n",
      "[CV]  bootstrap=True, max_depth=60, max_features=auto, min_samples_leaf=2, min_samples_split=12, n_estimators=300, total= 1.4min\n",
      "[CV] bootstrap=True, max_depth=60, max_features=auto, min_samples_leaf=2, min_samples_split=12, n_estimators=300 \n",
      "[CV]  bootstrap=True, max_depth=60, max_features=auto, min_samples_leaf=2, min_samples_split=12, n_estimators=300, total= 1.4min\n",
      "[CV] bootstrap=True, max_depth=60, max_features=auto, min_samples_leaf=2, min_samples_split=12, n_estimators=300 \n",
      "[CV]  bootstrap=True, max_depth=60, max_features=auto, min_samples_leaf=2, min_samples_split=12, n_estimators=300, total= 1.4min\n",
      "[CV] bootstrap=True, max_depth=60, max_features=auto, min_samples_leaf=3, min_samples_split=8, n_estimators=300 \n",
      "[CV]  bootstrap=True, max_depth=60, max_features=auto, min_samples_leaf=3, min_samples_split=8, n_estimators=300, total= 1.4min\n",
      "[CV] bootstrap=True, max_depth=60, max_features=auto, min_samples_leaf=3, min_samples_split=8, n_estimators=300 \n",
      "[CV]  bootstrap=True, max_depth=60, max_features=auto, min_samples_leaf=3, min_samples_split=8, n_estimators=300, total= 1.4min\n",
      "[CV] bootstrap=True, max_depth=60, max_features=auto, min_samples_leaf=3, min_samples_split=8, n_estimators=300 \n",
      "[CV]  bootstrap=True, max_depth=60, max_features=auto, min_samples_leaf=3, min_samples_split=8, n_estimators=300, total= 1.4min\n",
      "[CV] bootstrap=True, max_depth=60, max_features=auto, min_samples_leaf=3, min_samples_split=10, n_estimators=300 \n",
      "[CV]  bootstrap=True, max_depth=60, max_features=auto, min_samples_leaf=3, min_samples_split=10, n_estimators=300, total= 1.4min\n",
      "[CV] bootstrap=True, max_depth=60, max_features=auto, min_samples_leaf=3, min_samples_split=10, n_estimators=300 \n",
      "[CV]  bootstrap=True, max_depth=60, max_features=auto, min_samples_leaf=3, min_samples_split=10, n_estimators=300, total= 1.4min\n",
      "[CV] bootstrap=True, max_depth=60, max_features=auto, min_samples_leaf=3, min_samples_split=10, n_estimators=300 \n",
      "[CV]  bootstrap=True, max_depth=60, max_features=auto, min_samples_leaf=3, min_samples_split=10, n_estimators=300, total= 1.4min\n",
      "[CV] bootstrap=True, max_depth=60, max_features=auto, min_samples_leaf=3, min_samples_split=12, n_estimators=300 \n",
      "[CV]  bootstrap=True, max_depth=60, max_features=auto, min_samples_leaf=3, min_samples_split=12, n_estimators=300, total= 1.4min\n",
      "[CV] bootstrap=True, max_depth=60, max_features=auto, min_samples_leaf=3, min_samples_split=12, n_estimators=300 \n",
      "[CV]  bootstrap=True, max_depth=60, max_features=auto, min_samples_leaf=3, min_samples_split=12, n_estimators=300, total= 1.4min\n",
      "[CV] bootstrap=True, max_depth=60, max_features=auto, min_samples_leaf=3, min_samples_split=12, n_estimators=300 \n",
      "[CV]  bootstrap=True, max_depth=60, max_features=auto, min_samples_leaf=3, min_samples_split=12, n_estimators=300, total= 1.4min\n",
      "[CV] bootstrap=True, max_depth=60, max_features=log2, min_samples_leaf=2, min_samples_split=8, n_estimators=300 \n",
      "[CV]  bootstrap=True, max_depth=60, max_features=log2, min_samples_leaf=2, min_samples_split=8, n_estimators=300, total= 1.1min\n",
      "[CV] bootstrap=True, max_depth=60, max_features=log2, min_samples_leaf=2, min_samples_split=8, n_estimators=300 \n",
      "[CV]  bootstrap=True, max_depth=60, max_features=log2, min_samples_leaf=2, min_samples_split=8, n_estimators=300, total= 1.1min\n",
      "[CV] bootstrap=True, max_depth=60, max_features=log2, min_samples_leaf=2, min_samples_split=8, n_estimators=300 \n",
      "[CV]  bootstrap=True, max_depth=60, max_features=log2, min_samples_leaf=2, min_samples_split=8, n_estimators=300, total= 1.1min\n",
      "[CV] bootstrap=True, max_depth=60, max_features=log2, min_samples_leaf=2, min_samples_split=10, n_estimators=300 \n",
      "[CV]  bootstrap=True, max_depth=60, max_features=log2, min_samples_leaf=2, min_samples_split=10, n_estimators=300, total= 1.1min\n",
      "[CV] bootstrap=True, max_depth=60, max_features=log2, min_samples_leaf=2, min_samples_split=10, n_estimators=300 \n",
      "[CV]  bootstrap=True, max_depth=60, max_features=log2, min_samples_leaf=2, min_samples_split=10, n_estimators=300, total= 1.1min\n",
      "[CV] bootstrap=True, max_depth=60, max_features=log2, min_samples_leaf=2, min_samples_split=10, n_estimators=300 \n",
      "[CV]  bootstrap=True, max_depth=60, max_features=log2, min_samples_leaf=2, min_samples_split=10, n_estimators=300, total= 1.1min\n",
      "[CV] bootstrap=True, max_depth=60, max_features=log2, min_samples_leaf=2, min_samples_split=12, n_estimators=300 \n",
      "[CV]  bootstrap=True, max_depth=60, max_features=log2, min_samples_leaf=2, min_samples_split=12, n_estimators=300, total= 1.1min\n",
      "[CV] bootstrap=True, max_depth=60, max_features=log2, min_samples_leaf=2, min_samples_split=12, n_estimators=300 \n",
      "[CV]  bootstrap=True, max_depth=60, max_features=log2, min_samples_leaf=2, min_samples_split=12, n_estimators=300, total= 1.1min\n",
      "[CV] bootstrap=True, max_depth=60, max_features=log2, min_samples_leaf=2, min_samples_split=12, n_estimators=300 \n",
      "[CV]  bootstrap=True, max_depth=60, max_features=log2, min_samples_leaf=2, min_samples_split=12, n_estimators=300, total= 1.1min\n",
      "[CV] bootstrap=True, max_depth=60, max_features=log2, min_samples_leaf=3, min_samples_split=8, n_estimators=300 \n",
      "[CV]  bootstrap=True, max_depth=60, max_features=log2, min_samples_leaf=3, min_samples_split=8, n_estimators=300, total= 1.1min\n",
      "[CV] bootstrap=True, max_depth=60, max_features=log2, min_samples_leaf=3, min_samples_split=8, n_estimators=300 \n",
      "[CV]  bootstrap=True, max_depth=60, max_features=log2, min_samples_leaf=3, min_samples_split=8, n_estimators=300, total= 1.1min\n",
      "[CV] bootstrap=True, max_depth=60, max_features=log2, min_samples_leaf=3, min_samples_split=8, n_estimators=300 \n",
      "[CV]  bootstrap=True, max_depth=60, max_features=log2, min_samples_leaf=3, min_samples_split=8, n_estimators=300, total= 1.1min\n",
      "[CV] bootstrap=True, max_depth=60, max_features=log2, min_samples_leaf=3, min_samples_split=10, n_estimators=300 \n",
      "[CV]  bootstrap=True, max_depth=60, max_features=log2, min_samples_leaf=3, min_samples_split=10, n_estimators=300, total= 1.1min\n",
      "[CV] bootstrap=True, max_depth=60, max_features=log2, min_samples_leaf=3, min_samples_split=10, n_estimators=300 \n",
      "[CV]  bootstrap=True, max_depth=60, max_features=log2, min_samples_leaf=3, min_samples_split=10, n_estimators=300, total= 1.0min\n",
      "[CV] bootstrap=True, max_depth=60, max_features=log2, min_samples_leaf=3, min_samples_split=10, n_estimators=300 \n",
      "[CV]  bootstrap=True, max_depth=60, max_features=log2, min_samples_leaf=3, min_samples_split=10, n_estimators=300, total= 1.0min\n",
      "[CV] bootstrap=True, max_depth=60, max_features=log2, min_samples_leaf=3, min_samples_split=12, n_estimators=300 \n",
      "[CV]  bootstrap=True, max_depth=60, max_features=log2, min_samples_leaf=3, min_samples_split=12, n_estimators=300, total= 1.0min\n",
      "[CV] bootstrap=True, max_depth=60, max_features=log2, min_samples_leaf=3, min_samples_split=12, n_estimators=300 \n",
      "[CV]  bootstrap=True, max_depth=60, max_features=log2, min_samples_leaf=3, min_samples_split=12, n_estimators=300, total= 1.0min\n",
      "[CV] bootstrap=True, max_depth=60, max_features=log2, min_samples_leaf=3, min_samples_split=12, n_estimators=300 \n"
     ]
    },
    {
     "name": "stdout",
     "output_type": "stream",
     "text": [
      "[CV]  bootstrap=True, max_depth=60, max_features=log2, min_samples_leaf=3, min_samples_split=12, n_estimators=300, total= 1.1min\n",
      "[CV] bootstrap=True, max_depth=80, max_features=auto, min_samples_leaf=2, min_samples_split=8, n_estimators=300 \n",
      "[CV]  bootstrap=True, max_depth=80, max_features=auto, min_samples_leaf=2, min_samples_split=8, n_estimators=300, total= 1.5min\n",
      "[CV] bootstrap=True, max_depth=80, max_features=auto, min_samples_leaf=2, min_samples_split=8, n_estimators=300 \n",
      "[CV]  bootstrap=True, max_depth=80, max_features=auto, min_samples_leaf=2, min_samples_split=8, n_estimators=300, total= 1.5min\n",
      "[CV] bootstrap=True, max_depth=80, max_features=auto, min_samples_leaf=2, min_samples_split=8, n_estimators=300 \n",
      "[CV]  bootstrap=True, max_depth=80, max_features=auto, min_samples_leaf=2, min_samples_split=8, n_estimators=300, total= 1.5min\n",
      "[CV] bootstrap=True, max_depth=80, max_features=auto, min_samples_leaf=2, min_samples_split=10, n_estimators=300 \n",
      "[CV]  bootstrap=True, max_depth=80, max_features=auto, min_samples_leaf=2, min_samples_split=10, n_estimators=300, total= 1.4min\n",
      "[CV] bootstrap=True, max_depth=80, max_features=auto, min_samples_leaf=2, min_samples_split=10, n_estimators=300 \n",
      "[CV]  bootstrap=True, max_depth=80, max_features=auto, min_samples_leaf=2, min_samples_split=10, n_estimators=300, total= 1.4min\n",
      "[CV] bootstrap=True, max_depth=80, max_features=auto, min_samples_leaf=2, min_samples_split=10, n_estimators=300 \n",
      "[CV]  bootstrap=True, max_depth=80, max_features=auto, min_samples_leaf=2, min_samples_split=10, n_estimators=300, total= 1.4min\n",
      "[CV] bootstrap=True, max_depth=80, max_features=auto, min_samples_leaf=2, min_samples_split=12, n_estimators=300 \n",
      "[CV]  bootstrap=True, max_depth=80, max_features=auto, min_samples_leaf=2, min_samples_split=12, n_estimators=300, total= 1.4min\n",
      "[CV] bootstrap=True, max_depth=80, max_features=auto, min_samples_leaf=2, min_samples_split=12, n_estimators=300 \n",
      "[CV]  bootstrap=True, max_depth=80, max_features=auto, min_samples_leaf=2, min_samples_split=12, n_estimators=300, total= 1.4min\n",
      "[CV] bootstrap=True, max_depth=80, max_features=auto, min_samples_leaf=2, min_samples_split=12, n_estimators=300 \n",
      "[CV]  bootstrap=True, max_depth=80, max_features=auto, min_samples_leaf=2, min_samples_split=12, n_estimators=300, total= 1.4min\n",
      "[CV] bootstrap=True, max_depth=80, max_features=auto, min_samples_leaf=3, min_samples_split=8, n_estimators=300 \n",
      "[CV]  bootstrap=True, max_depth=80, max_features=auto, min_samples_leaf=3, min_samples_split=8, n_estimators=300, total= 1.4min\n",
      "[CV] bootstrap=True, max_depth=80, max_features=auto, min_samples_leaf=3, min_samples_split=8, n_estimators=300 \n",
      "[CV]  bootstrap=True, max_depth=80, max_features=auto, min_samples_leaf=3, min_samples_split=8, n_estimators=300, total= 1.4min\n",
      "[CV] bootstrap=True, max_depth=80, max_features=auto, min_samples_leaf=3, min_samples_split=8, n_estimators=300 \n",
      "[CV]  bootstrap=True, max_depth=80, max_features=auto, min_samples_leaf=3, min_samples_split=8, n_estimators=300, total= 1.4min\n",
      "[CV] bootstrap=True, max_depth=80, max_features=auto, min_samples_leaf=3, min_samples_split=10, n_estimators=300 \n",
      "[CV]  bootstrap=True, max_depth=80, max_features=auto, min_samples_leaf=3, min_samples_split=10, n_estimators=300, total= 1.4min\n",
      "[CV] bootstrap=True, max_depth=80, max_features=auto, min_samples_leaf=3, min_samples_split=10, n_estimators=300 \n",
      "[CV]  bootstrap=True, max_depth=80, max_features=auto, min_samples_leaf=3, min_samples_split=10, n_estimators=300, total= 1.4min\n",
      "[CV] bootstrap=True, max_depth=80, max_features=auto, min_samples_leaf=3, min_samples_split=10, n_estimators=300 \n",
      "[CV]  bootstrap=True, max_depth=80, max_features=auto, min_samples_leaf=3, min_samples_split=10, n_estimators=300, total= 1.4min\n",
      "[CV] bootstrap=True, max_depth=80, max_features=auto, min_samples_leaf=3, min_samples_split=12, n_estimators=300 \n",
      "[CV]  bootstrap=True, max_depth=80, max_features=auto, min_samples_leaf=3, min_samples_split=12, n_estimators=300, total= 1.3min\n",
      "[CV] bootstrap=True, max_depth=80, max_features=auto, min_samples_leaf=3, min_samples_split=12, n_estimators=300 \n",
      "[CV]  bootstrap=True, max_depth=80, max_features=auto, min_samples_leaf=3, min_samples_split=12, n_estimators=300, total= 1.3min\n",
      "[CV] bootstrap=True, max_depth=80, max_features=auto, min_samples_leaf=3, min_samples_split=12, n_estimators=300 \n",
      "[CV]  bootstrap=True, max_depth=80, max_features=auto, min_samples_leaf=3, min_samples_split=12, n_estimators=300, total= 1.4min\n",
      "[CV] bootstrap=True, max_depth=80, max_features=log2, min_samples_leaf=2, min_samples_split=8, n_estimators=300 \n",
      "[CV]  bootstrap=True, max_depth=80, max_features=log2, min_samples_leaf=2, min_samples_split=8, n_estimators=300, total= 1.1min\n",
      "[CV] bootstrap=True, max_depth=80, max_features=log2, min_samples_leaf=2, min_samples_split=8, n_estimators=300 \n",
      "[CV]  bootstrap=True, max_depth=80, max_features=log2, min_samples_leaf=2, min_samples_split=8, n_estimators=300, total= 1.1min\n",
      "[CV] bootstrap=True, max_depth=80, max_features=log2, min_samples_leaf=2, min_samples_split=8, n_estimators=300 \n",
      "[CV]  bootstrap=True, max_depth=80, max_features=log2, min_samples_leaf=2, min_samples_split=8, n_estimators=300, total= 1.1min\n",
      "[CV] bootstrap=True, max_depth=80, max_features=log2, min_samples_leaf=2, min_samples_split=10, n_estimators=300 \n",
      "[CV]  bootstrap=True, max_depth=80, max_features=log2, min_samples_leaf=2, min_samples_split=10, n_estimators=300, total= 1.1min\n",
      "[CV] bootstrap=True, max_depth=80, max_features=log2, min_samples_leaf=2, min_samples_split=10, n_estimators=300 \n",
      "[CV]  bootstrap=True, max_depth=80, max_features=log2, min_samples_leaf=2, min_samples_split=10, n_estimators=300, total= 1.1min\n",
      "[CV] bootstrap=True, max_depth=80, max_features=log2, min_samples_leaf=2, min_samples_split=10, n_estimators=300 \n",
      "[CV]  bootstrap=True, max_depth=80, max_features=log2, min_samples_leaf=2, min_samples_split=10, n_estimators=300, total= 1.1min\n",
      "[CV] bootstrap=True, max_depth=80, max_features=log2, min_samples_leaf=2, min_samples_split=12, n_estimators=300 \n",
      "[CV]  bootstrap=True, max_depth=80, max_features=log2, min_samples_leaf=2, min_samples_split=12, n_estimators=300, total= 1.1min\n",
      "[CV] bootstrap=True, max_depth=80, max_features=log2, min_samples_leaf=2, min_samples_split=12, n_estimators=300 \n",
      "[CV]  bootstrap=True, max_depth=80, max_features=log2, min_samples_leaf=2, min_samples_split=12, n_estimators=300, total= 1.1min\n",
      "[CV] bootstrap=True, max_depth=80, max_features=log2, min_samples_leaf=2, min_samples_split=12, n_estimators=300 \n",
      "[CV]  bootstrap=True, max_depth=80, max_features=log2, min_samples_leaf=2, min_samples_split=12, n_estimators=300, total= 1.1min\n",
      "[CV] bootstrap=True, max_depth=80, max_features=log2, min_samples_leaf=3, min_samples_split=8, n_estimators=300 \n",
      "[CV]  bootstrap=True, max_depth=80, max_features=log2, min_samples_leaf=3, min_samples_split=8, n_estimators=300, total= 1.0min\n",
      "[CV] bootstrap=True, max_depth=80, max_features=log2, min_samples_leaf=3, min_samples_split=8, n_estimators=300 \n",
      "[CV]  bootstrap=True, max_depth=80, max_features=log2, min_samples_leaf=3, min_samples_split=8, n_estimators=300, total= 1.1min\n",
      "[CV] bootstrap=True, max_depth=80, max_features=log2, min_samples_leaf=3, min_samples_split=8, n_estimators=300 \n",
      "[CV]  bootstrap=True, max_depth=80, max_features=log2, min_samples_leaf=3, min_samples_split=8, n_estimators=300, total= 1.1min\n",
      "[CV] bootstrap=True, max_depth=80, max_features=log2, min_samples_leaf=3, min_samples_split=10, n_estimators=300 \n",
      "[CV]  bootstrap=True, max_depth=80, max_features=log2, min_samples_leaf=3, min_samples_split=10, n_estimators=300, total= 1.0min\n",
      "[CV] bootstrap=True, max_depth=80, max_features=log2, min_samples_leaf=3, min_samples_split=10, n_estimators=300 \n",
      "[CV]  bootstrap=True, max_depth=80, max_features=log2, min_samples_leaf=3, min_samples_split=10, n_estimators=300, total= 1.0min\n",
      "[CV] bootstrap=True, max_depth=80, max_features=log2, min_samples_leaf=3, min_samples_split=10, n_estimators=300 \n",
      "[CV]  bootstrap=True, max_depth=80, max_features=log2, min_samples_leaf=3, min_samples_split=10, n_estimators=300, total= 1.0min\n",
      "[CV] bootstrap=True, max_depth=80, max_features=log2, min_samples_leaf=3, min_samples_split=12, n_estimators=300 \n"
     ]
    },
    {
     "name": "stdout",
     "output_type": "stream",
     "text": [
      "[CV]  bootstrap=True, max_depth=80, max_features=log2, min_samples_leaf=3, min_samples_split=12, n_estimators=300, total= 1.0min\n",
      "[CV] bootstrap=True, max_depth=80, max_features=log2, min_samples_leaf=3, min_samples_split=12, n_estimators=300 \n",
      "[CV]  bootstrap=True, max_depth=80, max_features=log2, min_samples_leaf=3, min_samples_split=12, n_estimators=300, total= 1.0min\n",
      "[CV] bootstrap=True, max_depth=80, max_features=log2, min_samples_leaf=3, min_samples_split=12, n_estimators=300 \n",
      "[CV]  bootstrap=True, max_depth=80, max_features=log2, min_samples_leaf=3, min_samples_split=12, n_estimators=300, total= 1.0min\n"
     ]
    },
    {
     "name": "stderr",
     "output_type": "stream",
     "text": [
      "[Parallel(n_jobs=1)]: Done  72 out of  72 | elapsed: 89.4min finished\n"
     ]
    },
    {
     "name": "stdout",
     "output_type": "stream",
     "text": [
      " Durée d'exécution : 01h 31' 31\" \n",
      "RandomForestClassifier - Meilleur score GridSearchCV : 0.7438\n",
      "RandomForestClassifier - Meilleurs parametres GridSearchCV:  {'bootstrap': True, 'max_depth': 60, 'max_features': 'auto', 'min_samples_leaf': 2, 'min_samples_split': 12, 'n_estimators': 300}\n",
      "RandomForestClassifier - Score du test : 0.7484\n"
     ]
    }
   ],
   "source": [
    "from sklearn.model_selection import GridSearchCV\n",
    "\n",
    "with LoggerTimer(\"Durée d'exécution \"): \n",
    "    # Create the parameter grid based on the results of random search \n",
    "    param_grid = {\n",
    "        'bootstrap': [True],\n",
    "        'max_depth': [60, 80],\n",
    "        'max_features': ['auto', 'log2'],\n",
    "        'min_samples_leaf': [2, 3],\n",
    "        'min_samples_split': [8, 10, 12],\n",
    "        'n_estimators': [300]\n",
    "    }\n",
    "    # Create a based model\n",
    "    rf = RandomForestClassifier(random_state=94)\n",
    "    # Instantiate the grid search model\n",
    "    grid = GridSearchCV(estimator = rf, param_grid = param_grid, cv = 3, verbose = 2)\n",
    "    grid.fit(X_train, y_train)\n",
    "print(\"RandomForestClassifier - Meilleur score GridSearchCV : {:.4f}\".format(grid.best_score_))\n",
    "print(\"RandomForestClassifier - Meilleurs parametres GridSearchCV: \", grid.best_params_)\n",
    "print(\"RandomForestClassifier - Score du test : {:.4f}\".format(grid.score(X_test, y_test)))"
   ]
  },
  {
   "cell_type": "markdown",
   "metadata": {},
   "source": [
    "param_grid = {\n",
    "        'bootstrap': [True],\n",
    "        'max_depth': [60, 80],\n",
    "        'max_features': ['auto', 'log2'],\n",
    "        'min_samples_leaf': [2, 3],\n",
    "        'min_samples_split': [8, 10, 12],\n",
    "        'n_estimators': [300]\n",
    "    }\n",
    "    \n",
    "Fitting 3 folds for each of 12 candidates, totalling 36 fits\n",
    "\n",
    "[Parallel(n_jobs=-2)]: Using backend LokyBackend with 7 concurrent workers.\n",
    "\n",
    "[Parallel(n_jobs=-2)]: Done  36 out of  36 | elapsed: 25.1min finished\n",
    "\n",
    " Durée d'exécution : 00h 28' 42\" \n",
    " \n",
    "RandomForestClassifier - Meilleur score GridSearchCV : 0.7442\n",
    "\n",
    "RandomForestClassifier - Meilleurs parametres GridSearchCV:  {'bootstrap': True, 'max_depth': 60, 'max_features': 'auto', \n",
    "'min_samples_leaf': 2, 'min_samples_split': 14, 'n_estimators': 500}\n",
    "\n",
    "RandomForestClassifier - Score du test : 0.7487"
   ]
  },
  {
   "cell_type": "markdown",
   "metadata": {},
   "source": [
    "Démonstration que le recalibrage des données n'influe pas sur la forêt aléatoire"
   ]
  },
  {
   "cell_type": "code",
   "execution_count": 53,
   "metadata": {},
   "outputs": [
    {
     "name": "stdout",
     "output_type": "stream",
     "text": [
      " Durée d'exécution : 00h 00' 49\" \n",
      "RandomForestClassifier sans mise à l'échelle - Précision entraînement 100 Estimateurs : 0.9871\n",
      "RandomForestClassifier sans mise à l'échelle - Précision test Profondeur 100 Estimateurs : 0.7287\n"
     ]
    }
   ],
   "source": [
    "n_estimators=100\n",
    "\n",
    "with LoggerTimer(\"Durée d'exécution \"):  \n",
    "    forest2 = RandomForestClassifier(n_estimators=n_estimators, random_state = 94)\n",
    "    forest2.fit(X_train2, y_train2)\n",
    "print(\"RandomForestClassifier sans mise à l\\'échelle - Précision entraînement {} Estimateurs : {:.4f}\"\\\n",
    "      .format(n_estimators, forest2.score(X_train2, y_train2)))\n",
    "print(\"RandomForestClassifier sans mise à l\\'échelle - Précision test Profondeur {} Estimateurs : {:.4f}\"\\\n",
    "      .format(n_estimators, forest2.score(X_test2, y_test2)))"
   ]
  },
  {
   "cell_type": "code",
   "execution_count": 54,
   "metadata": {},
   "outputs": [
    {
     "name": "stdout",
     "output_type": "stream",
     "text": [
      " Durée d'exécution : 00h 00' 49\" \n",
      "RandomForestClassifier max_features = 16 - Précision entraînement 100 Estimateurs : 0.9871\n",
      "RandomForestClassifier max_features = 16 - Précision test Profondeur 100 Estimateurs : 0.7287\n"
     ]
    }
   ],
   "source": [
    "n_estimators=100\n",
    "max_features = 16 # racine carrée du nombre de colonnes par défaut donc 8 dans ce cas\n",
    "\n",
    "with LoggerTimer(\"Durée d'exécution \"):  \n",
    "    forest3 = RandomForestClassifier(n_estimators=n_estimators, random_state = 94)\n",
    "    forest3.fit(X_train2, y_train2)\n",
    "print(\"RandomForestClassifier max_features = {} - Précision entraînement {} Estimateurs : {:.4f}\"\\\n",
    "      .format(max_features, n_estimators, forest3.score(X_train2, y_train2)))\n",
    "print(\"RandomForestClassifier max_features = {} - Précision test Profondeur {} Estimateurs : {:.4f}\"\\\n",
    "      .format(max_features, n_estimators, forest3.score(X_test2, y_test2)))"
   ]
  },
  {
   "cell_type": "markdown",
   "metadata": {},
   "source": [
    "Les variations sur n_estimators et max_features n'influencent pas le score"
   ]
  },
  {
   "cell_type": "code",
   "execution_count": 20,
   "metadata": {},
   "outputs": [
    {
     "name": "stdout",
     "output_type": "stream",
     "text": [
      " Durée d'exécution : 00h 08' 36\" \n",
      "RandomForestClassifier max_features = 4 - Précision entraînement 1000 Estimateurs : 1.0000\n",
      "RandomForestClassifier max_features = 4 - Précision test Profondeur 1000 Estimateurs : 0.7389\n"
     ]
    }
   ],
   "source": [
    "n_estimators=1000\n",
    "max_features = 4 # racine carrée du nombre de colonnes par défaut donc 8 dans ce cas\n",
    "\n",
    "with LoggerTimer(\"Durée d'exécution \"):  \n",
    "    forest4 = RandomForestClassifier(n_estimators=n_estimators, random_state = 94)\n",
    "    forest4.fit(X_train2, y_train2)\n",
    "print(\"RandomForestClassifier max_features = {} - Précision entraînement {} Estimateurs : {:.4f}\"\\\n",
    "      .format(max_features, n_estimators, forest4.score(X_train2, y_train2)))\n",
    "print(\"RandomForestClassifier max_features = {} - Précision test Profondeur {} Estimateurs : {:.4f}\"\\\n",
    "      .format(max_features, n_estimators, forest4.score(X_test2, y_test2)))"
   ]
  },
  {
   "cell_type": "markdown",
   "metadata": {},
   "source": [
    "##### ---------------------------------------------------------------------------------------------------------------------------------------------------------------------------------------------------------\n",
    "#### Modèle GradientBoostingClassifier : gbrt_3"
   ]
  },
  {
   "cell_type": "code",
   "execution_count": 168,
   "metadata": {},
   "outputs": [],
   "source": [
    "from sklearn.ensemble import GradientBoostingClassifier"
   ]
  },
  {
   "cell_type": "markdown",
   "metadata": {},
   "source": [
    "L'ajout du polynôme ne modifie pas le résultat du gbrt_3"
   ]
  },
  {
   "cell_type": "code",
   "execution_count": 169,
   "metadata": {
    "scrolled": true
   },
   "outputs": [
    {
     "name": "stdout",
     "output_type": "stream",
     "text": [
      " Durée d'exécution : 00h 03' 52\" \n",
      "GradientBoostingClassifier - Précision entraînement : 0.6849\n",
      "GradientBoostingClassifier - Précision test : 0.6842\n"
     ]
    }
   ],
   "source": [
    "with LoggerTimer(\"Durée d'exécution \"):  \n",
    "    gbrt_3 = GradientBoostingClassifier(random_state=94)\n",
    "    gbrt_3.fit(X_train, y_train)\n",
    "print(\"GradientBoostingClassifier - Précision entraînement : {:.4f}\".format(gbrt_3.score(X_train, y_train)))\n",
    "print(\"GradientBoostingClassifier - Précision test : {:.4f}\".format(gbrt_3.score(X_test, y_test)))"
   ]
  },
  {
   "cell_type": "code",
   "execution_count": 173,
   "metadata": {},
   "outputs": [
    {
     "data": {
      "image/png": "[encoded data removed]",
      "text/plain": [
       "<Figure size 1440x360 with 1 Axes>"
      ]
     },
     "metadata": {
      "needs_background": "light"
     },
     "output_type": "display_data"
    }
   ],
   "source": [
    "def mean_tree(data):\n",
    "    return np.mean([tree.feature_importances_ for tree in data], axis=0)\n",
    "\n",
    "importances=np.mean([mean_tree(tree) for tree in gbrt_3.estimators_], axis=0)\n",
    "top_feature_importance(X_train, importances, 30)"
   ]
  },
  {
   "cell_type": "markdown",
   "metadata": {},
   "source": [
    "#### Modèle GradientBoostingClassifier max_depth = 1 : gbrt_1"
   ]
  },
  {
   "cell_type": "code",
   "execution_count": 56,
   "metadata": {},
   "outputs": [
    {
     "name": "stdout",
     "output_type": "stream",
     "text": [
      " Durée d'exécution : 00h 01' 22\" \n",
      "GradientBoostingClassifier max_depth=1 - Précision entraînement : 0.6362\n",
      "GradientBoostingClassifier max_depth=1 - Précision test : 0.6376\n"
     ]
    }
   ],
   "source": [
    "max_depth=1\n",
    "\n",
    "with LoggerTimer(\"Durée d'exécution \"):  \n",
    "    gbrt_1 = GradientBoostingClassifier(random_state=94, max_depth=max_depth)\n",
    "    gbrt_1.fit(X_train, y_train)\n",
    "print(\"GradientBoostingClassifier max_depth={} - Précision entraînement : {:.4f}\".format(max_depth,\\\n",
    "                                                                                    gbrt_1.score(X_train, y_train)))\n",
    "print(\"GradientBoostingClassifier max_depth={} - Précision test : {:.4f}\".format(max_depth,\\\n",
    "                                                                                gbrt_1.score(X_test, y_test)))"
   ]
  },
  {
   "cell_type": "markdown",
   "metadata": {},
   "source": [
    "#### Modèle GradientBoostingClassifier max_depth = 5 : gbrt_5"
   ]
  },
  {
   "cell_type": "code",
   "execution_count": 59,
   "metadata": {},
   "outputs": [
    {
     "name": "stdout",
     "output_type": "stream",
     "text": [
      " Durée d'exécution : 00h 07' 02\" \n",
      "GradientBoostingClassifier max_depth=5 - Précision entraînement : 0.717\n",
      "GradientBoostingClassifier max_depth=5 - Précision test : 0.712\n"
     ]
    }
   ],
   "source": [
    "max_depth=5\n",
    "\n",
    "with LoggerTimer(\"Durée d'exécution \"):  \n",
    "    gbrt_5 = GradientBoostingClassifier(random_state=94, max_depth=max_depth)\n",
    "    gbrt_5.fit(X_train, y_train)\n",
    "print(\"GradientBoostingClassifier max_depth={} - Précision entraînement : {:.3f}\".format(max_depth,\\\n",
    "                                                                                    gbrt_5.score(X_train, y_train)))\n",
    "print(\"GradientBoostingClassifier max_depth={} - Précision test : {:.3f}\".format(max_depth,\\\n",
    "                                                                                 gbrt_5.score(X_test, y_test)))"
   ]
  },
  {
   "cell_type": "markdown",
   "metadata": {},
   "source": [
    "#### Modèle GradientBoostingClassifier max_depth = 10 n_estimators = 200 : gbrt_10_200"
   ]
  },
  {
   "cell_type": "code",
   "execution_count": 60,
   "metadata": {},
   "outputs": [
    {
     "name": "stdout",
     "output_type": "stream",
     "text": [
      " Durée d'exécution : 00h 28' 31\" \n",
      "GradientBoostingClassifier max_depth=10 n_estimators=200 - Précision entraînement : 0.8597\n",
      "GradientBoostingClassifier max_depth=10 n_estimators=200 - Précision test : 0.7442\n"
     ]
    }
   ],
   "source": [
    "max_depth=10\n",
    "n_estimators=200\n",
    "\n",
    "with LoggerTimer(\"Durée d'exécution \"):  \n",
    "    gbrt_10_200 = GradientBoostingClassifier(random_state=94, max_depth=max_depth, n_estimators=n_estimators)\n",
    "    gbrt_10_200.fit(X_train, y_train)\n",
    "print(\"GradientBoostingClassifier max_depth={} n_estimators={} - Précision entraînement : {:.4f}\"\\\n",
    "      .format(max_depth, n_estimators, gbrt_10_200.score(X_train, y_train)))\n",
    "print(\"GradientBoostingClassifier max_depth={} n_estimators={} - Précision test : {:.4f}\"\\\n",
    "      .format(max_depth, n_estimators, gbrt_10_200.score(X_test, y_test)))"
   ]
  },
  {
   "cell_type": "code",
   "execution_count": 61,
   "metadata": {},
   "outputs": [
    {
     "data": {
      "image/png": "[encoded data removed]",
      "text/plain": [
       "<Figure size 1440x360 with 1 Axes>"
      ]
     },
     "metadata": {
      "needs_background": "light"
     },
     "output_type": "display_data"
    }
   ],
   "source": [
    "importances=np.mean([mean_tree(tree) for tree in gbrt_10_200.estimators_], axis=0)\n",
    "top_feature_importance(X_train, importances, 30)"
   ]
  },
  {
   "cell_type": "markdown",
   "metadata": {},
   "source": [
    "##### Modèle GradientBoostingClassifier max_depth = 15 n_estimators = 100 : gbrt_15_100             SUR APPRENTISSAGE"
   ]
  },
  {
   "cell_type": "code",
   "execution_count": 62,
   "metadata": {},
   "outputs": [
    {
     "name": "stdout",
     "output_type": "stream",
     "text": [
      " Durée d'exécution : 00h 48' 30\" \n",
      "GradientBoostingClassifier max_depth=15 n_estimators=200 building_id suppr- Précision entraînement : 0.9846\n",
      "GradientBoostingClassifier max_depth=15 n_estimators=200 building_id suppr - Précision test : 0.7293\n"
     ]
    }
   ],
   "source": [
    "max_depth=15\n",
    "n_estimators=200\n",
    "\n",
    "with LoggerTimer(\"Durée d'exécution \"):  \n",
    "    gbrt_15_200 = GradientBoostingClassifier(random_state=94, max_depth=max_depth, n_estimators=n_estimators)\n",
    "    gbrt_15_200.fit(X_train, y_train)\n",
    "print(\"GradientBoostingClassifier max_depth={} n_estimators={} building_id suppr- Précision entraînement : {:.4f}\"\\\n",
    "      .format(max_depth, n_estimators, gbrt_15_200.score(X_train, y_train)))\n",
    "print(\"GradientBoostingClassifier max_depth={} n_estimators={} building_id suppr - Précision test : {:.4f}\"\\\n",
    "      .format(max_depth, n_estimators,gbrt_15_200.score(X_test, y_test)))"
   ]
  },
  {
   "cell_type": "markdown",
   "metadata": {},
   "source": [
    "##### ---------------------------------------------------------------------------------------------------------------------------------------------------------------------------------------------------------\n",
    "\n",
    "#### Modèle LogisticRegression en cross validation\n",
    "\n",
    "Il ne faut pas de données booléennes dans le dataframe, il faut donc préalablement les convertir en integer (à défaut python cesse de fonctionner)"
   ]
  },
  {
   "cell_type": "code",
   "execution_count": 66,
   "metadata": {},
   "outputs": [],
   "source": [
    "X_train3=X_train.copy()\n",
    "X_test3=X_test.copy()\n",
    "data_columns_bool=['has_superstructure_adobe_mud','has_superstructure_mud_mortar_stone','has_superstructure_stone_flag',\\\n",
    "        'has_superstructure_cement_mortar_stone','has_superstructure_mud_mortar_brick',\\\n",
    "        'has_superstructure_timber','has_superstructure_bamboo',\\\n",
    "        'has_superstructure_cement_mortar_brick','has_superstructure_rc_non_engineered','has_superstructure_rc_engineered',\\\n",
    "        'has_superstructure_other','has_secondary_use', 'has_secondary_use_agriculture', 'has_secondary_use_hotel',\\\n",
    "        'has_secondary_use_rental','has_secondary_use_institution', 'has_secondary_use_school', 'has_secondary_use_industry',\\\n",
    "        'has_secondary_use_health_post','has_secondary_use_gov_office','has_secondary_use_use_police','has_secondary_use_other']\n",
    "\n",
    "X_train3[data_columns_bool]=X_train[data_columns_bool].astype(int)\n",
    "X_test3[data_columns_bool]=X_test[data_columns_bool].astype(int)"
   ]
  },
  {
   "cell_type": "code",
   "execution_count": 76,
   "metadata": {},
   "outputs": [
    {
     "name": "stdout",
     "output_type": "stream",
     "text": [
      " Durée d'exécution : 00h 01' 11\" \n",
      "LogisticRegression - Précision entraînement : 0.6101\n",
      "LogisticRegression - Précision test : 0.6086\n"
     ]
    }
   ],
   "source": [
    "from sklearn.model_selection import cross_val_score\n",
    "from sklearn.linear_model import LogisticRegression\n",
    "\n",
    "with LoggerTimer(\"Durée d'exécution \"):  \n",
    "    clf=LogisticRegression(solver='saga', max_iter=1e5)\n",
    "    clf.fit(X_train3, y_train)\n",
    "print(\"LogisticRegression - Précision entraînement : {:.4f}\"\\\n",
    "      .format(clf.score(X_train3, y_train)))\n",
    "print(\"LogisticRegression - Précision test : {:.4f}\"\\\n",
    "      .format(clf.score(X_test3, y_test)))"
   ]
  },
  {
   "cell_type": "markdown",
   "metadata": {},
   "source": [
    "#### Modèle LogisticRegression avec GridSearch : grid"
   ]
  },
  {
   "cell_type": "code",
   "execution_count": 41,
   "metadata": {},
   "outputs": [
    {
     "name": "stdout",
     "output_type": "stream",
     "text": [
      " Durée d'exécution : 00h 23' 22\" \n",
      "LogisticRegression - Meilleur score de la cross-validation : 0.6098\n",
      "LogisticRegression - Meilleurs parametres:  {'C': 1}\n",
      "LogisticRegression C= {'C': 1} - Score du test : 0.6081\n"
     ]
    }
   ],
   "source": [
    "from sklearn.model_selection import GridSearchCV\n",
    "\n",
    "with LoggerTimer(\"Durée d'exécution \"):  \n",
    "    param_grid = {'C': [0.001, 0.01, 0.1, 1, 10]}\n",
    "    grid = GridSearchCV(LogisticRegression(solver='saga', max_iter=1e5), param_grid, cv=5)\n",
    "    grid.fit(X_train3, y_train)\n",
    "print(\"LogisticRegression - Meilleur score de la cross-validation : {:.4f}\".format(grid.best_score_))\n",
    "print(\"LogisticRegression - Meilleurs parametres: \", grid.best_params_)\n",
    "print(\"LogisticRegression C= {} - Score du test : {:.4f}\".format(grid.best_params_, grid.score(X_test3, y_test)))"
   ]
  },
  {
   "cell_type": "markdown",
   "metadata": {},
   "source": [
    "##### -------------------------------------------------------------------------------------------------------------------------------\n",
    "#### Modèle XGBClassifier"
   ]
  },
  {
   "cell_type": "code",
   "execution_count": 14,
   "metadata": {},
   "outputs": [
    {
     "name": "stdout",
     "output_type": "stream",
     "text": [
      " Durée d'exécution : 00h 02' 29\" \n",
      "XGBClassifier - Précision sur entraînement : 0.6756\n",
      "XGBClassifier - Précision sur test : 0.6756\n"
     ]
    }
   ],
   "source": [
    "from xgboost import XGBClassifier\n",
    "from sklearn.metrics import accuracy_score\n",
    "\n",
    "with LoggerTimer(\"Durée d'exécution \"):  \n",
    "    xgb = XGBClassifier()\n",
    "    xgb.fit(X_train, y_train)\n",
    "accuracy = accuracy_score(y_train, xgb.predict(X_train))\n",
    "print(\"XGBClassifier - Précision sur entraînement : {:.4f}\".format(accuracy))\n",
    "accuracy = accuracy_score(y_test, xgb.predict(X_test))\n",
    "print(\"XGBClassifier - Précision sur test : {:.4f}\".format(accuracy))"
   ]
  },
  {
   "cell_type": "code",
   "execution_count": 78,
   "metadata": {},
   "outputs": [
    {
     "name": "stdout",
     "output_type": "stream",
     "text": [
      " Durée d'exécution : 00h 07' 01\" \n",
      "XGBClassifier max_depth=10 - Précision sur entraînement : 0.7823\n",
      "XGBClassifier max_depth=10 - Précision sur test : 0.7340\n"
     ]
    }
   ],
   "source": [
    "max_depth=10\n",
    "\n",
    "with LoggerTimer(\"Durée d'exécution \"):  \n",
    "    xgb_10 = XGBClassifier(max_depth=max_depth)\n",
    "    xgb_10.fit(X_train, y_train)\n",
    "accuracy = accuracy_score(y_train, xgb_10.predict(X_train))\n",
    "print(\"XGBClassifier max_depth={} - Précision sur entraînement : {:.4f}\".format(max_depth,accuracy))\n",
    "accuracy = accuracy_score(y_test, xgb_10.predict(X_test))\n",
    "print(\"XGBClassifier max_depth={} - Précision sur test : {:.4f}\".format(max_depth,accuracy))"
   ]
  },
  {
   "cell_type": "code",
   "execution_count": 79,
   "metadata": {},
   "outputs": [
    {
     "name": "stdout",
     "output_type": "stream",
     "text": [
      " Durée d'exécution : 00h 05' 54\" \n",
      "XGBClassifier max_depth=6 + - Précision sur entraînement : 0.7312\n",
      "XGBClassifier max_depth=6 + - Précision sur test : 0.7207\n"
     ]
    }
   ],
   "source": [
    "max_depth=6\n",
    "n_estimators=150\n",
    "learning_rate =0.1\n",
    "\n",
    "xgb_6b = XGBClassifier(\n",
    "     learning_rate =learning_rate,\n",
    "     n_estimators=n_estimators,\n",
    "     max_depth=max_depth,\n",
    "     min_child_weight=1,\n",
    "     gamma=0,\n",
    "     subsample=0.8,\n",
    "     colsample_bytree=0.8,\n",
    "     objective= 'binary:logistic',\n",
    "     scale_pos_weight=1,\n",
    "     seed=27)\n",
    "\n",
    "with LoggerTimer(\"Durée d'exécution \"):  \n",
    "    xgb_6b.fit(X_train, y_train)\n",
    "accuracy = accuracy_score(y_train, xgb_6b.predict(X_train))\n",
    "print(\"XGBClassifier max_depth={} + - Précision sur entraînement : {:.4f}\".format(max_depth, accuracy))\n",
    "accuracy = accuracy_score(y_test, xgb_6b.predict(X_test))\n",
    "print(\"XGBClassifier max_depth={} + - Précision sur test : {:.4f}\".format(max_depth, accuracy))"
   ]
  },
  {
   "cell_type": "code",
   "execution_count": 80,
   "metadata": {},
   "outputs": [
    {
     "name": "stdout",
     "output_type": "stream",
     "text": [
      " Durée d'exécution : 05h 24' 01\" \n",
      "XGBClassifier max_depth=10 n_estimators=400 - Meilleur score de la cross-validation : 0.7458\n",
      "XGBClassifier max_depth=10 + - Meilleurs parametres:  {'learning_rate': 0.1}\n"
     ]
    }
   ],
   "source": [
    "max_depth=10\n",
    "n_estimators=400\n",
    "\n",
    "xgb_6 = XGBClassifier( \n",
    "     #learning_rate =0.5,\n",
    "     n_estimators=n_estimators,\n",
    "     max_depth=max_depth,\n",
    "     min_child_weight=1,\n",
    "     gamma=0,\n",
    "     subsample=0.8,\n",
    "     colsample_bytree=0.8,\n",
    "     objective= 'binary:logistic',\n",
    "     scale_pos_weight=1,\n",
    "     seed=94)\n",
    "\n",
    "from sklearn.model_selection import GridSearchCV\n",
    "from xgboost import plot_importance\n",
    "\n",
    "with LoggerTimer(\"Durée d'exécution \"):  \n",
    "    param_grid = {'learning_rate': [0.1, 0.2, 0.3]}\n",
    "    grid = GridSearchCV(xgb_6, param_grid, cv=5)\n",
    "    grid.fit(X_train, y_train)\n",
    "print(\"XGBClassifier max_depth={} n_estimators={} - Meilleur score de la cross-validation : {:.4f}\"\\\n",
    "      .format(max_depth, n_estimators, grid.best_score_))\n",
    "print(\"XGBClassifier max_depth=10 + - Meilleurs parametres: \", grid.best_params_)"
   ]
  },
  {
   "cell_type": "code",
   "execution_count": 15,
   "metadata": {},
   "outputs": [
    {
     "name": "stdout",
     "output_type": "stream",
     "text": [
      " Durée d'exécution : 17h 59' 28\" \n",
      "XGBClassifier max_depth=10 n_estimators=1000 - Meilleur score de la cross-validation : 0.7467\n",
      "XGBClassifier max_depth=10 + - Meilleurs parametres:  {'learning_rate': 0.05}\n"
     ]
    }
   ],
   "source": [
    "max_depth=10\n",
    "n_estimators=1000\n",
    "\n",
    "xgb_6 = XGBClassifier( \n",
    "     n_estimators=n_estimators,\n",
    "     max_depth=max_depth,\n",
    "     min_child_weight=1,\n",
    "     gamma=0,\n",
    "     subsample=0.8,\n",
    "     colsample_bytree=0.8,\n",
    "     objective= 'binary:logistic',\n",
    "     scale_pos_weight=1,\n",
    "     seed=94)\n",
    "\n",
    "from sklearn.model_selection import GridSearchCV\n",
    "from xgboost import plot_importance\n",
    "\n",
    "with LoggerTimer(\"Durée d'exécution \"):  \n",
    "    param_grid = {'learning_rate': [0.025, 0.05, 0.075, 0.1]}\n",
    "    grid = GridSearchCV(xgb_6, param_grid, cv=5)\n",
    "    grid.fit(X_train, y_train)\n",
    "print(\"XGBClassifier max_depth={} n_estimators={} - Meilleur score de la cross-validation : {:.4f}\"\\\n",
    "      .format(max_depth, n_estimators, grid.best_score_))\n",
    "print(\"XGBClassifier max_depth=10 + - Meilleurs parametres: \", grid.best_params_)"
   ]
  },
  {
   "cell_type": "code",
   "execution_count": 16,
   "metadata": {},
   "outputs": [
    {
     "name": "stdout",
     "output_type": "stream",
     "text": [
      "XGBClassifier max_depth=10 n_estimators=1000 learning_rate = 0.05 - Précision sur test : 0.7505\n"
     ]
    }
   ],
   "source": [
    "accuracy = accuracy_score(y_test, grid.predict(X_test))\n",
    "print(\"XGBClassifier max_depth={} n_estimators={} learning_rate = {} - Précision sur test : {:.4f}\"\\\n",
    "          .format(max_depth, n_estimators, grid.best_params_['learning_rate'], accuracy))"
   ]
  },
  {
   "cell_type": "markdown",
   "metadata": {},
   "source": [
    "##### ---------------------------------------------------------------------------------------------------------------------------------------------------------------------------------------------------------\n",
    "\n",
    "## Traitement du fichier de test à soumettre"
   ]
  },
  {
   "cell_type": "code",
   "execution_count": 22,
   "metadata": {},
   "outputs": [],
   "source": [
    "def submission(file_in, file_out, model, columns_to_drop):\n",
    "    test = pd.read_csv(file_in, sep=\",\", header=0)\n",
    "    test_svg=test[columns_to_drop]\n",
    "    test.drop(columns=[columns_to_drop], inplace=True)\n",
    "    #print('Shape du fichier de tests : {}'.format(df_test_values.shape))\n",
    "\n",
    "    test=polynome(test)\n",
    "    test=categorized(test,data_columns_bool, data_columns_category)\n",
    "    test=scalered(test, data_columns_integer)\n",
    "    test=dummy(test)\n",
    "\n",
    "    test_submission = pd.DataFrame(model.predict(test))\n",
    "    test_submission.set_index(test_svg, inplace=True)\n",
    "    test_submission.rename(columns={0: \"damage_grade\"}, inplace=True)\n",
    "\n",
    "    test_submission.to_csv(file_out, sep=\",\")\n",
    "    \n",
    "    print('Shape du fichier soumis : {}'.format(test.shape))"
   ]
  },
  {
   "cell_type": "code",
   "execution_count": 25,
   "metadata": {},
   "outputs": [
    {
     "name": "stdout",
     "output_type": "stream",
     "text": [
      "Shape du fichier soumis : (86868, 82)\n",
      " Durée d'exécution pour la soumission du modèle : 00h 00' 28\" \n"
     ]
    }
   ],
   "source": [
    "file_test_values='data/test_values.csv'\n",
    "file_test_results='data/test_values_submission.csv'\n",
    "column_to_drop='building_id'\n",
    "\n",
    "my_model=grid\n",
    "\n",
    "with LoggerTimer(\"Durée d'exécution pour la soumission du modèle \"):\n",
    "    submission(file_test_values, file_test_results, my_model, column_to_drop)"
   ]
  },
  {
   "cell_type": "code",
   "execution_count": 112,
   "metadata": {},
   "outputs": [
    {
     "ename": "AttributeError",
     "evalue": "'GridSearchCV' object has no attribute 'estimators_'",
     "output_type": "error",
     "traceback": [
      "\u001b[1;31m---------------------------------------------------------------------------\u001b[0m",
      "\u001b[1;31mAttributeError\u001b[0m                            Traceback (most recent call last)",
      "\u001b[1;32m<ipython-input-112-792712144527>\u001b[0m in \u001b[0;36m<module>\u001b[1;34m\u001b[0m\n\u001b[1;32m----> 1\u001b[1;33m \u001b[0mimportances\u001b[0m\u001b[1;33m=\u001b[0m\u001b[0mnp\u001b[0m\u001b[1;33m.\u001b[0m\u001b[0mmean\u001b[0m\u001b[1;33m(\u001b[0m\u001b[1;33m[\u001b[0m\u001b[0mmean_tree\u001b[0m\u001b[1;33m(\u001b[0m\u001b[0mtree\u001b[0m\u001b[1;33m)\u001b[0m \u001b[1;32mfor\u001b[0m \u001b[0mtree\u001b[0m \u001b[1;32min\u001b[0m \u001b[0mgrid\u001b[0m\u001b[1;33m.\u001b[0m\u001b[0mestimators_\u001b[0m\u001b[1;33m]\u001b[0m\u001b[1;33m,\u001b[0m \u001b[0maxis\u001b[0m\u001b[1;33m=\u001b[0m\u001b[1;36m0\u001b[0m\u001b[1;33m)\u001b[0m\u001b[1;33m\u001b[0m\u001b[1;33m\u001b[0m\u001b[0m\n\u001b[0m\u001b[0;32m      2\u001b[0m \u001b[0mindices\u001b[0m \u001b[1;33m=\u001b[0m \u001b[0mnp\u001b[0m\u001b[1;33m.\u001b[0m\u001b[0margsort\u001b[0m\u001b[1;33m(\u001b[0m\u001b[0mimportances\u001b[0m\u001b[1;33m)\u001b[0m\u001b[1;33m[\u001b[0m\u001b[1;33m:\u001b[0m\u001b[1;33m:\u001b[0m\u001b[1;33m-\u001b[0m\u001b[1;36m1\u001b[0m\u001b[1;33m]\u001b[0m\u001b[1;33m\u001b[0m\u001b[1;33m\u001b[0m\u001b[0m\n\u001b[0;32m      3\u001b[0m \u001b[1;33m\u001b[0m\u001b[0m\n\u001b[0;32m      4\u001b[0m \u001b[0mtop\u001b[0m\u001b[1;33m=\u001b[0m\u001b[0mX_train\u001b[0m\u001b[1;33m.\u001b[0m\u001b[0mshape\u001b[0m\u001b[1;33m[\u001b[0m\u001b[1;36m1\u001b[0m\u001b[1;33m]\u001b[0m\u001b[1;33m\u001b[0m\u001b[1;33m\u001b[0m\u001b[0m\n\u001b[0;32m      5\u001b[0m \u001b[0mtop\u001b[0m\u001b[1;33m=\u001b[0m\u001b[1;36m30\u001b[0m\u001b[1;33m\u001b[0m\u001b[1;33m\u001b[0m\u001b[0m\n",
      "\u001b[1;31mAttributeError\u001b[0m: 'GridSearchCV' object has no attribute 'estimators_'"
     ]
    }
   ],
   "source": [
    "importances=np.mean([mean_tree(tree) for tree in grid.estimators_], axis=0)\n",
    "indices = np.argsort(importances)[::-1]\n",
    "\n",
    "top=X_train.shape[1]\n",
    "top=30\n",
    "indices=indices[:top]\n",
    "\n",
    "plt.figure(1, figsize=(20, 5))\n",
    "plt.title(\"Feature importances : TOP {}\".format(top))\n",
    "plt.bar(range(top), importances[indices], color=\"r\", align=\"center\", alpha=0.5)\n",
    "plt.xticks(range(top), X_train.columns[indices], rotation='90')\n",
    "plt.xlim([-1,top])\n",
    "plt.show()"
   ]
  },
  {
   "cell_type": "code",
   "execution_count": 22,
   "metadata": {},
   "outputs": [
    {
     "data": {
      "text/plain": [
       "{'mean_fit_time': array([3019.77834964, 2994.23378458, 2991.82776299, 3070.00527225]),\n",
       " 'std_fit_time': array([ 4.49431948,  6.84879914,  2.49451367, 47.5873195 ]),\n",
       " 'mean_score_time': array([28.94025254, 26.93931804, 28.1257997 , 29.89695086]),\n",
       " 'std_score_time': array([0.35308049, 0.44726323, 0.18753252, 0.45870286]),\n",
       " 'param_learning_rate': masked_array(data=[0.025, 0.05, 0.075, 0.1],\n",
       "              mask=[False, False, False, False],\n",
       "        fill_value='?',\n",
       "             dtype=object),\n",
       " 'params': [{'learning_rate': 0.025},\n",
       "  {'learning_rate': 0.05},\n",
       "  {'learning_rate': 0.075},\n",
       "  {'learning_rate': 0.1}],\n",
       " 'split0_test_score': array([0.74832438, 0.74824763, 0.74586851, 0.74192888]),\n",
       " 'split1_test_score': array([0.74287542, 0.74632898, 0.74182655, 0.73737529]),\n",
       " 'split2_test_score': array([0.74939882, 0.74842671, 0.74548478, 0.74067536]),\n",
       " 'split3_test_score': array([0.74638015, 0.74591967, 0.742901  , 0.73867997]),\n",
       " 'split4_test_score': array([0.74433359, 0.74448708, 0.74111026, 0.73668457]),\n",
       " 'mean_test_score': array([0.74626247, 0.74668202, 0.74343822, 0.73906882]),\n",
       " 'std_test_score': array([0.00242053, 0.0014845 , 0.00191834, 0.00197306]),\n",
       " 'rank_test_score': array([2, 1, 3, 4])}"
      ]
     },
     "execution_count": 22,
     "metadata": {},
     "output_type": "execute_result"
    }
   ],
   "source": [
    "grid.cv_results_"
   ]
  },
  {
   "cell_type": "code",
   "execution_count": null,
   "metadata": {},
   "outputs": [],
   "source": []
  }
 ],
 "metadata": {
  "kernelspec": {
   "display_name": "Python 3",
   "language": "python",
   "name": "python3"
  },
  "language_info": {
   "codemirror_mode": {
    "name": "ipython",
    "version": 3
   },
   "file_extension": ".py",
   "mimetype": "text/x-python",
   "name": "python",
   "nbconvert_exporter": "python",
   "pygments_lexer": "ipython3",
   "version": "3.7.4"
  }
 },
 "nbformat": 4,
 "nbformat_minor": 2
}
